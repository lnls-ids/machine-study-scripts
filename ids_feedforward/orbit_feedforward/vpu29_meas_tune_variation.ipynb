{
 "cells": [
  {
   "cell_type": "code",
   "execution_count": 25,
   "metadata": {},
   "outputs": [],
   "source": [
    "import numpy as np\n",
    "import matplotlib.pyplot as plt\n",
    "from datetime import datetime\n",
    "import time\n",
    "\n",
    "from siriuspy.search import IDSearch, PSSearch, MASearch\n",
    "from siriuspy.devices import VPU, SOFB, HLFOFB, IDFF, Tune, DVFImgProc, PowerSupply, BunchbyBunch\n",
    "from siriuspy.devices.bbb import Acquisition, SingleBunch\n",
    "from siriuspy.magnet.factory import NormalizerFactory\n",
    "from siriuspy.devices import DVF, DVFImgProc\n",
    "\n",
    "import epics\n",
    "from mathphys.functions import save, load"
   ]
  },
  {
   "cell_type": "markdown",
   "metadata": {},
   "source": [
    "# Functions definition"
   ]
  },
  {
   "cell_type": "code",
   "execution_count": 36,
   "metadata": {},
   "outputs": [],
   "source": [
    "def initialize_vpu(beamline):\n",
    "    # Search ID\n",
    "    devnamevpu = IDSearch.conv_beamline_2_idname(beamline=beamline)\n",
    "    vpu = VPU(devname=devnamevpu)\n",
    "\n",
    "    # Disable beamline control\n",
    "    vpu.cmd_beamline_ctrl_disable()\n",
    "    print('beamline control: ', vpu.is_beamline_ctrl_enabled)\n",
    "\n",
    "    return vpu\n",
    "\n",
    "def move_vpu_gap(vpu:VPU, gap, timeout, verbose=False):\n",
    "    vpu.set_gap(gap)\n",
    "    time.sleep(0.5)\n",
    "    print('Gap-RB {:.3f} mm'.format(vpu.gap)) if verbose else 0\n",
    "    if vpu.cmd_move_start(timeout):\n",
    "        time.sleep(0.5)\n",
    "        print('Undulator is moving...') if verbose else 0\n",
    "        while vpu.is_moving:\n",
    "            time.sleep(0.1)\n",
    "            print('Current gap {:.3f} mm.'.format(vpu.gap_mon), end='\\r') if verbose else 0\n",
    "        print('Gap {:.3f} mm reached.'.format(vpu.gap)) if verbose else 0\n",
    "        return True\n",
    "    else:\n",
    "        print('Error while cmd_move_start.')\n",
    "        return False\n",
    "\n",
    "def move_vpu_gap_robust(vpu:VPU, gap, timeout, maxiter=3, verbose=False):\n",
    "    sucess = move_vpu_gap(vpu, gap=gap, timeout=timeout, verbose=verbose)\n",
    "    i=0\n",
    "    while not sucess and i<maxiter:\n",
    "        i += 1\n",
    "        print('Trying {:0f}/{:.0f}'.format(i, maxiter)) if verbose else 0\n",
    "        vpu.cmd_reset(timeout=timeout)\n",
    "        time.sleep(0.5)\n",
    "        sucess = move_vpu_gap(vpu, gap=gap, timeout=timeout, verbose=verbose)\n",
    "    if sucess:\n",
    "        print('Movimentation done!\\n')\n",
    "        return True\n",
    "    else:\n",
    "        print('Error while moving.\\n')\n",
    "        return False\n",
    "\n",
    "def get_tune_data(bbb_h, bbb_v,  tune, nr_acq=20, acq_sleep=1):\n",
    "    tunex = np.zeros(nr_acq)\n",
    "    tuney = np.zeros(nr_acq)\n",
    "    tunex_dev = np.zeros(nr_acq)\n",
    "    tuney_dev = np.zeros(nr_acq)\n",
    "    for i in range(nr_acq):\n",
    "        tunex[i] = bbb_h.spec_marker1_tune\n",
    "        tuney[i] = bbb_v.spec_marker1_tune\n",
    "        tunex_dev[i] = tune.tunex\n",
    "        tuney_dev[i] = tune.tuney\n",
    "        time.sleep(acq_sleep)\n",
    "    return tunex, tuney, tunex_dev, tuney_dev\n",
    "\n"
   ]
  },
  {
   "cell_type": "markdown",
   "metadata": {},
   "source": [
    "# Initialize devices"
   ]
  },
  {
   "cell_type": "code",
   "execution_count": 27,
   "metadata": {},
   "outputs": [],
   "source": [
    "timeout = 3"
   ]
  },
  {
   "cell_type": "code",
   "execution_count": 29,
   "metadata": {},
   "outputs": [
    {
     "name": "stdout",
     "output_type": "stream",
     "text": [
      "beamline control:  False\n",
      "center mode:  0\n",
      "pitch mode:  0\n",
      "gap speed: 0.500 mm/s\n",
      "gap: 24.000 mm\n",
      "beamline control:  False\n",
      "center mode:  0\n",
      "pitch mode:  0\n",
      "gap speed: 0.500 mm/s\n",
      "gap: 24.000 mm\n"
     ]
    }
   ],
   "source": [
    "vpu = initialize_vpu(beamline='CARNAUBA')\n",
    "tune = Tune(Tune.DEVICES.SI)\n",
    "tune.wait_for_connection(timeout=timeout)\n",
    "\n",
    "sofb = SOFB(SOFB.DEVICES.SI)\n",
    "fofb = HLFOFB(HLFOFB.DEVICES.SI)"
   ]
  },
  {
   "attachments": {},
   "cell_type": "markdown",
   "metadata": {},
   "source": [
    "# Turn on autocorr"
   ]
  },
  {
   "cell_type": "code",
   "execution_count": 30,
   "metadata": {},
   "outputs": [
    {
     "data": {
      "text/plain": [
       "True"
      ]
     },
     "execution_count": 30,
     "metadata": {},
     "output_type": "execute_result"
    }
   ],
   "source": [
    "sofb.cmd_turn_on_autocorr(timeout=timeout)\n",
    "fofb.cmd_turn_on_loop_state(timeout=timeout)"
   ]
  },
  {
   "attachments": {},
   "cell_type": "markdown",
   "metadata": {},
   "source": [
    "# Create bbb"
   ]
  },
  {
   "cell_type": "code",
   "execution_count": 31,
   "metadata": {},
   "outputs": [],
   "source": [
    "bbb_v = SingleBunch(BunchbyBunch.DEVICES.V)\n",
    "bbb_v.spec_marker1_tune\n",
    "\n",
    "bbb_h = SingleBunch(BunchbyBunch.DEVICES.H)\n",
    "bbb_h.spec_marker1_tune\n",
    "\n",
    "tune = Tune(Tune.DEVICES.SI)"
   ]
  },
  {
   "cell_type": "markdown",
   "metadata": {},
   "source": [
    "# Meas ID effect on tunes"
   ]
  },
  {
   "cell_type": "code",
   "execution_count": 32,
   "metadata": {},
   "outputs": [
    {
     "data": {
      "text/plain": [
       "array([24. , 23. , 22. , 21. , 20. , 19. , 18. , 17. , 16. , 15. , 14. ,\n",
       "       13. , 12. , 11. , 10. ,  9. ,  8. ,  7. ,  6. ,  5. ,  4.3])"
      ]
     },
     "execution_count": 32,
     "metadata": {},
     "output_type": "execute_result"
    }
   ],
   "source": [
    "gaps = np.linspace(24, 4, 21)\n",
    "gaps[-1] = 4.3\n",
    "gaps"
   ]
  },
  {
   "cell_type": "code",
   "execution_count": 33,
   "metadata": {},
   "outputs": [
    {
     "data": {
      "text/plain": [
       "True"
      ]
     },
     "execution_count": 33,
     "metadata": {},
     "output_type": "execute_result"
    }
   ],
   "source": [
    "vpu.set_gap_speed(1.0)"
   ]
  },
  {
   "cell_type": "code",
   "execution_count": 38,
   "metadata": {},
   "outputs": [
    {
     "name": "stdout",
     "output_type": "stream",
     "text": [
      "Gap-RB 24.000 mm\n",
      "Undulator is moving...\n",
      "Gap 24.000 mm reached.\n",
      "Movimentation done!\n",
      "\n",
      "Gap-RB 23.000 mm\n",
      "Undulator is moving...\n",
      "Gap 23.000 mm reached.\n",
      "Movimentation done!\n",
      "\n",
      "Gap-RB 22.000 mm\n",
      "Undulator is moving...\n",
      "Gap 22.000 mm reached.\n",
      "Movimentation done!\n",
      "\n",
      "Gap-RB 21.000 mm\n",
      "Undulator is moving...\n",
      "Gap 21.000 mm reached.\n",
      "Movimentation done!\n",
      "\n",
      "Gap-RB 20.000 mm\n",
      "Undulator is moving...\n",
      "Gap 20.000 mm reached.\n",
      "Movimentation done!\n",
      "\n",
      "Gap-RB 19.000 mm\n",
      "Undulator is moving...\n",
      "Gap 19.000 mm reached.\n",
      "Movimentation done!\n",
      "\n",
      "Gap-RB 18.000 mm\n",
      "Undulator is moving...\n",
      "Gap 18.000 mm reached.\n",
      "Movimentation done!\n",
      "\n",
      "Gap-RB 17.000 mm\n",
      "Undulator is moving...\n",
      "Gap 17.000 mm reached.\n",
      "Movimentation done!\n",
      "\n",
      "Gap-RB 16.000 mm\n",
      "Undulator is moving...\n",
      "Gap 16.000 mm reached.\n",
      "Movimentation done!\n",
      "\n",
      "Gap-RB 15.000 mm\n",
      "Undulator is moving...\n",
      "Gap 15.000 mm reached.\n",
      "Movimentation done!\n",
      "\n",
      "Gap-RB 14.000 mm\n",
      "Undulator is moving...\n",
      "Gap 14.000 mm reached.\n",
      "Movimentation done!\n",
      "\n",
      "Gap-RB 13.000 mm\n",
      "Undulator is moving...\n",
      "Gap 13.000 mm reached.\n",
      "Movimentation done!\n",
      "\n",
      "Gap-RB 12.000 mm\n",
      "Undulator is moving...\n",
      "Gap 12.000 mm reached.\n",
      "Movimentation done!\n",
      "\n",
      "Gap-RB 11.000 mm\n",
      "Undulator is moving...\n",
      "Gap 11.000 mm reached.\n",
      "Movimentation done!\n",
      "\n",
      "Gap-RB 10.000 mm\n",
      "Undulator is moving...\n",
      "Gap 10.000 mm reached.\n",
      "Movimentation done!\n",
      "\n",
      "Gap-RB 9.000 mm\n",
      "Undulator is moving...\n",
      "Gap 9.000 mm reached.\n",
      "Movimentation done!\n",
      "\n",
      "Gap-RB 8.000 mm\n",
      "Undulator is moving...\n",
      "Gap 8.000 mm reached.\n",
      "Movimentation done!\n",
      "\n",
      "Gap-RB 7.000 mm\n",
      "Undulator is moving...\n",
      "Gap 7.000 mm reached.\n",
      "Movimentation done!\n",
      "\n",
      "Gap-RB 6.000 mm\n",
      "Undulator is moving...\n",
      "Gap 6.000 mm reached.\n",
      "Movimentation done!\n",
      "\n",
      "Gap-RB 5.000 mm\n",
      "Undulator is moving...\n",
      "Gap 5.000 mm reached.\n",
      "Movimentation done!\n",
      "\n",
      "Gap-RB 4.300 mm\n",
      "Undulator is moving...\n",
      "Gap 4.300 mm reached.\n",
      "Movimentation done!\n",
      "\n",
      "Done! ETA: 511.998s\n"
     ]
    }
   ],
   "source": [
    "data = dict()\n",
    "data['gap'] = list()\n",
    "data['timestamps'] = list()\n",
    "data['tunex_bbb'] = list()\n",
    "data['tuney_bbb'] = list()\n",
    "data['tunex_dev'] = list()\n",
    "data['tuney_dev'] = list()\n",
    "# data['CAX_images'] = list()\n",
    "t0 = time.time()\n",
    "for i, gap in enumerate(gaps):\n",
    "\n",
    "    # Move gap\n",
    "    success = move_vpu_gap_robust(vpu, gap=gap, timeout=timeout, verbose=True)\n",
    "    \n",
    "    # Verify if undulator moved\n",
    "    if not success:\n",
    "        break\n",
    "\n",
    "    # Wait orbit distortion to become stationary\n",
    "    time.sleep(1)\n",
    "    \n",
    "    # Record orbit and other info\n",
    "    data['gap'].append(gap)\n",
    "    data['timestamps'].append(time.time())\n",
    "    data['beamline'] = IDSearch.conv_idname_2_beamline(vpu.devname)\n",
    "\n",
    "    # Record CAX img params and tune\n",
    "    result = get_tune_data(bbb_v=bbb_v, bbb_h=bbb_h, tune=tune, nr_acq=20, acq_sleep=1)\n",
    "    tunex, tuney, tunex_dev, tuney_dev = result\n",
    "    data['tunex_bbb'].append(tunex)\n",
    "    data['tuney_bbb'].append(tuney)\n",
    "    data['tunex_dev'].append(tunex_dev)\n",
    "    data['tuney_dev'].append(tuney_dev)\n",
    "\n",
    "print(f'Done! ETA: {time.time()-t0:.3f}s')\n",
    "save(data, 'VPU_{}_tune_variation_iter1.pickle'.format(IDSearch.conv_idname_2_beamline(vpu.devname)))"
   ]
  }
 ],
 "metadata": {
  "kernelspec": {
   "display_name": "Python 3",
   "language": "python",
   "name": "python3"
  },
  "language_info": {
   "codemirror_mode": {
    "name": "ipython",
    "version": 3
   },
   "file_extension": ".py",
   "mimetype": "text/x-python",
   "name": "python",
   "nbconvert_exporter": "python",
   "pygments_lexer": "ipython3",
   "version": "3.6.8"
  },
  "vscode": {
   "interpreter": {
    "hash": "aee8b7b246df8f9039afb4144a1f6fd8d2ca17a180786b69acc140d282b71a49"
   }
  }
 },
 "nbformat": 4,
 "nbformat_minor": 2
}
