{
 "cells": [
  {
   "cell_type": "code",
   "execution_count": 29,
   "metadata": {
    "ExecuteTime": {
     "end_time": "2025-01-28T17:15:44.839246Z",
     "start_time": "2025-01-28T17:15:44.830146Z"
    }
   },
   "outputs": [],
   "source": [
    "import epics\n",
    "\n",
    "%matplotlib qt5\n",
    "\n",
    "import numpy as np\n",
    "import matplotlib.pyplot as plt\n",
    "from siriuspy.clientconfigdb import ConfigDBDocument"
   ]
  },
  {
   "cell_type": "markdown",
   "metadata": {
    "heading_collapsed": true
   },
   "source": [
    "## Refaz tabela de FF"
   ]
  },
  {
   "cell_type": "code",
   "execution_count": 43,
   "metadata": {
    "ExecuteTime": {
     "end_time": "2025-01-28T16:00:24.789169Z",
     "start_time": "2025-01-28T16:00:24.769917Z"
    },
    "hidden": true
   },
   "outputs": [],
   "source": [
    "pv_table_sp = epics.PV('SI-06SB:BS-IDFF-CC:Table-SP')\n",
    "pv_table_rb = epics.PV('SI-06SB:BS-IDFF-CC:Table-RB')"
   ]
  },
  {
   "cell_type": "code",
   "execution_count": 44,
   "metadata": {
    "ExecuteTime": {
     "end_time": "2025-01-28T16:00:25.815875Z",
     "start_time": "2025-01-28T16:00:25.809863Z"
    },
    "hidden": true
   },
   "outputs": [
    {
     "name": "stdout",
     "output_type": "stream",
     "text": [
      "True\n",
      "True\n"
     ]
    }
   ],
   "source": [
    "print(pv_table_sp.connected)\n",
    "print(pv_table_rb.connected)"
   ]
  },
  {
   "cell_type": "code",
   "execution_count": 45,
   "metadata": {
    "ExecuteTime": {
     "end_time": "2024-11-01T15:26:59.163360Z",
     "start_time": "2024-11-01T15:26:59.157568Z"
    },
    "hidden": true
   },
   "outputs": [],
   "source": [
    "table = pv_table_sp.value"
   ]
  },
  {
   "cell_type": "code",
   "execution_count": 46,
   "metadata": {
    "ExecuteTime": {
     "end_time": "2024-11-01T15:27:56.730369Z",
     "start_time": "2024-11-01T15:27:56.725425Z"
    },
    "hidden": true
   },
   "outputs": [],
   "source": [
    "nrpts = 1000\n",
    "ch1 = table[0*nrpts:1*nrpts]\n",
    "ch2 = table[1*nrpts:2*nrpts]\n",
    "cv1 = table[2*nrpts:3*nrpts]\n",
    "cv2 = table[3*nrpts:4*nrpts]"
   ]
  },
  {
   "cell_type": "code",
   "execution_count": 47,
   "metadata": {
    "ExecuteTime": {
     "end_time": "2024-11-01T15:27:57.562988Z",
     "start_time": "2024-11-01T15:27:57.296270Z"
    },
    "hidden": true
   },
   "outputs": [],
   "source": [
    "plt.figure()\n",
    "plt.plot(ch1, label='ch1')\n",
    "plt.plot(ch2, label='ch2')\n",
    "plt.plot(cv1, label='cv1')\n",
    "plt.plot(cv2, label='cv2')\n",
    "plt.legend()\n",
    "plt.show()"
   ]
  },
  {
   "cell_type": "code",
   "execution_count": null,
   "metadata": {
    "ExecuteTime": {
     "end_time": "2024-11-01T14:06:12.919690Z",
     "start_time": "2024-11-01T14:06:12.915465Z"
    },
    "hidden": true
   },
   "outputs": [],
   "source": [
    "# ch1_new = 0 * ch1\n",
    "# ch2_new = 1 * ch2\n",
    "# cv1_new = 1 * cv1\n",
    "# cv2_new = 1 * cv2"
   ]
  },
  {
   "cell_type": "code",
   "execution_count": null,
   "metadata": {
    "ExecuteTime": {
     "end_time": "2024-11-01T14:06:48.354533Z",
     "start_time": "2024-11-01T14:06:48.350233Z"
    },
    "hidden": true
   },
   "outputs": [],
   "source": [
    "# table[0*37500:1*37500] = ch1_new\n",
    "# table[1*37500:2*37500] = ch2_new\n",
    "# table[2*37500:3*37500] = cv1_new\n",
    "# table[3*37500:4*37500] = cv2_new"
   ]
  },
  {
   "cell_type": "code",
   "execution_count": 7,
   "metadata": {
    "ExecuteTime": {
     "end_time": "2024-11-01T14:07:27.598054Z",
     "start_time": "2024-11-01T14:07:27.540511Z"
    },
    "hidden": true
   },
   "outputs": [],
   "source": [
    "# pv_table_sp.value = table"
   ]
  },
  {
   "cell_type": "markdown",
   "metadata": {
    "ExecuteTime": {
     "end_time": "2025-01-28T16:01:12.031133Z",
     "start_time": "2025-01-28T16:01:12.027090Z"
    },
    "code_folding": []
   },
   "source": [
    "# Carrega a tabela do servidor e manda pro IOC/Beagle"
   ]
  },
  {
   "cell_type": "code",
   "execution_count": 35,
   "metadata": {
    "ExecuteTime": {
     "end_time": "2025-01-28T17:15:52.271571Z",
     "start_time": "2025-01-28T17:15:52.266395Z"
    }
   },
   "outputs": [],
   "source": [
    "cdb = ConfigDBDocument(config_type='si_idff', name='si_06sb_vpu29_dev')"
   ]
  },
  {
   "cell_type": "code",
   "execution_count": 36,
   "metadata": {
    "ExecuteTime": {
     "end_time": "2025-01-28T17:15:57.793786Z",
     "start_time": "2025-01-28T17:15:57.721976Z"
    }
   },
   "outputs": [],
   "source": [
    "cdb.load()\n",
    "cdb_table = cdb.value['polarizations']['vertical']"
   ]
  },
  {
   "cell_type": "code",
   "execution_count": 37,
   "metadata": {
    "ExecuteTime": {
     "end_time": "2025-01-28T17:16:00.512588Z",
     "start_time": "2025-01-28T17:16:00.506427Z"
    }
   },
   "outputs": [],
   "source": [
    "ch1 = cdb_table['cc1_1']\n",
    "ch2 = cdb_table['cc2_1']\n",
    "cv1 = cdb_table['cc1_2']\n",
    "cv2 = cdb_table['cc2_2']\n",
    "gap = cdb_table['kparameter']"
   ]
  },
  {
   "cell_type": "code",
   "execution_count": 39,
   "metadata": {
    "ExecuteTime": {
     "end_time": "2025-01-28T17:16:02.988122Z",
     "start_time": "2025-01-28T17:16:02.907053Z"
    }
   },
   "outputs": [],
   "source": [
    "plt.plot(gap, ch1, label='ch1')\n",
    "plt.plot(gap, ch2, label='ch2')\n",
    "plt.plot(gap, cv1, label='cv1')\n",
    "plt.plot(gap, cv2, label='cv2')\n",
    "plt.legend()\n",
    "plt.show()"
   ]
  },
  {
   "cell_type": "code",
   "execution_count": 40,
   "metadata": {
    "ExecuteTime": {
     "end_time": "2025-01-28T17:16:23.929270Z",
     "start_time": "2025-01-28T17:16:23.924291Z"
    }
   },
   "outputs": [],
   "source": [
    "db_table = ch1 + ch2 + cv1 + cv2"
   ]
  },
  {
   "cell_type": "code",
   "execution_count": 49,
   "metadata": {
    "ExecuteTime": {
     "end_time": "2025-01-28T17:16:28.131014Z",
     "start_time": "2025-01-28T17:16:28.122757Z"
    }
   },
   "outputs": [
    {
     "data": {
      "text/plain": [
       "-5.247287641647101"
      ]
     },
     "execution_count": 49,
     "metadata": {},
     "output_type": "execute_result"
    }
   ],
   "source": [
    "min(db_table)"
   ]
  },
  {
   "attachments": {},
   "cell_type": "markdown",
   "metadata": {},
   "source": [
    "SET FF TABLE PV TO THE NEW VALUES"
   ]
  },
  {
   "cell_type": "code",
   "execution_count": 42,
   "metadata": {
    "ExecuteTime": {
     "end_time": "2025-01-28T17:16:30.050046Z",
     "start_time": "2025-01-28T17:16:30.044403Z"
    }
   },
   "outputs": [],
   "source": [
    "pv_table_sp.value = db_table"
   ]
  },
  {
   "cell_type": "code",
   "execution_count": null,
   "metadata": {},
   "outputs": [],
   "source": []
  }
 ],
 "metadata": {
  "hide_input": false,
  "kernelspec": {
   "display_name": "Python 3",
   "language": "python",
   "name": "python3"
  },
  "language_info": {
   "codemirror_mode": {
    "name": "ipython",
    "version": 3
   },
   "file_extension": ".py",
   "mimetype": "text/x-python",
   "name": "python",
   "nbconvert_exporter": "python",
   "pygments_lexer": "ipython3",
   "version": "3.6.8"
  },
  "vscode": {
   "interpreter": {
    "hash": "aee8b7b246df8f9039afb4144a1f6fd8d2ca17a180786b69acc140d282b71a49"
   }
  }
 },
 "nbformat": 4,
 "nbformat_minor": 4
}
