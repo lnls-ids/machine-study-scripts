{
 "cells": [
  {
   "cell_type": "code",
   "execution_count": 185,
   "metadata": {},
   "outputs": [],
   "source": [
    "import numpy as np\n",
    "import matplotlib.pyplot as mplt\n",
    "from mathphys.functions import save, load\n",
    "import os\n",
    "from apsuite.optics_analysis.tune_correction import TuneCorr\n",
    "from apsuite.orbcorr import OrbRespmat\n",
    "from pymodels import si\n",
    "import pyaccel as pa\n",
    "from siriuspy.clientconfigdb import ConfigDBClient\n",
    "from siriuspy.search import IDSearch\n",
    "from siriuspy.devices import IVU, SOFB, IDFF\n",
    "from siriuspy.search import IDSearch\n",
    "import GPy as gpy"
   ]
  },
  {
   "cell_type": "markdown",
   "metadata": {},
   "source": [
    "# Get orbit distortions"
   ]
  },
  {
   "cell_type": "code",
   "execution_count": null,
   "metadata": {},
   "outputs": [],
   "source": [
    "# Get files\n",
    "beamline = 'EMA'\n",
    "\n",
    "files = os.listdir()\n",
    "files = sorted(\n",
    "    [file for file in files if 'orbit_variation' in file and 'new' not in file])\n",
    "files"
   ]
  },
  {
   "cell_type": "code",
   "execution_count": null,
   "metadata": {},
   "outputs": [],
   "source": [
    "devnameivu = IDSearch.conv_beamline_2_idname(beamline=beamline)\n",
    "ivu = IVU(devnameivu)\n",
    "idff = IDFF(ivu.devname)\n",
    "corr_names = list()\n",
    "corr_names.extend(idff.chnames)\n",
    "corr_names.extend(idff.cvnames)"
   ]
  },
  {
   "cell_type": "code",
   "execution_count": 196,
   "metadata": {},
   "outputs": [],
   "source": [
    "# Get orbit and gaps from files\n",
    "orbsx = []\n",
    "orbsy = []\n",
    "for file in files:\n",
    "    data = load(file)\n",
    "    gaps = np.array(data['gap'])\n",
    "    orbsx.append(data['orbx'])\n",
    "    orbsy.append(data['orby'])\n",
    "\n",
    "#  Average orbit over iteractions\n",
    "orbx = np.array(orbsx).mean(axis=0)\n",
    "orby = np.array(orbsy).mean(axis=0)\n",
    "\n",
    "nr_pts = len(gaps)\n",
    "\n",
    "# Get ref orb\n",
    "ref_idx = gaps == 24\n",
    "ref_orbx = orbx[ref_idx]\n",
    "ref_orby = orby[ref_idx]\n",
    "\n",
    "# Get orbit distortion for each gap\n",
    "orbx_dist = orbx - ref_orbx\n",
    "orby_dist = orby - ref_orby\n",
    "orbd = np.hstack((orbx_dist, orby_dist))"
   ]
  },
  {
   "cell_type": "markdown",
   "metadata": {},
   "source": [
    "# Correct distortions"
   ]
  },
  {
   "cell_type": "code",
   "execution_count": null,
   "metadata": {},
   "outputs": [],
   "source": [
    "model = si.create_accelerator()\n",
    "tunecorr = TuneCorr(model=model, acc='SI')\n",
    "tunecorr.correct_parameters((49.16, 14.22))"
   ]
  },
  {
   "cell_type": "markdown",
   "metadata": {},
   "source": [
    "### Calculate local corrs orbit response matrix"
   ]
  },
  {
   "cell_type": "code",
   "execution_count": 200,
   "metadata": {},
   "outputs": [],
   "source": [
    "# Calculate local corrs orbit response matrix\n",
    "orbmat = OrbRespmat(model=model, acc='SI', dim='6d', corr_system='SOFB')\n",
    "allcorr_idcs = pa.lattice.find_indices(model, 'fam_name', 'IDC4')\n",
    "\n",
    "if beamline == 'EMA':\n",
    "    corr_idcs = allcorr_idcs[:2]\n",
    "elif beamline == 'PAINEIRA':\n",
    "    corr_idcs = allcorr_idcs[2:]\n",
    "\n",
    "orbmat.ch_idx = corr_idcs\n",
    "orbmat.cv_idx = corr_idcs\n",
    "respmat = orbmat.get_respm()[:, :-1]\n"
   ]
  },
  {
   "cell_type": "markdown",
   "metadata": {},
   "source": [
    "### Load local corrs orbit response matrix"
   ]
  },
  {
   "cell_type": "code",
   "execution_count": null,
   "metadata": {},
   "outputs": [],
   "source": [
    "files = os.listdir()\n",
    "files = sorted(\n",
    "    [file for file in files if 'orbit_distortions_corrs' in file and 'new' not in file])\n",
    "files"
   ]
  },
  {
   "cell_type": "code",
   "execution_count": null,
   "metadata": {},
   "outputs": [],
   "source": [
    "data = load(files[0])\n",
    "dcurr = data['delta_current']\n",
    "\n",
    "respmat = np.zeros((320, 4))\n",
    "for i, corr_name in enumerate(corr_names):\n",
    "    dorbx = (data[corr_name]['pos']['dorbx'] - data[corr_name]['neg']['dorbx'])\n",
    "    dorby = (data[corr_name]['pos']['dorby'] - data[corr_name]['neg']['dorby'])\n",
    "    dorb = np.hstack((dorbx, dorby))\n",
    "    respmat[:, i] = dorb/dcurr\n"
   ]
  },
  {
   "cell_type": "markdown",
   "metadata": {},
   "source": [
    "### Perform correction"
   ]
  },
  {
   "cell_type": "code",
   "execution_count": 201,
   "metadata": {},
   "outputs": [],
   "source": [
    "# load sofb respmat\n",
    "sofb_respmat = np.array(ConfigDBClient(config_type='si_orbcorr_respm').get_config_value('ref_respmat'))"
   ]
  },
  {
   "cell_type": "code",
   "execution_count": 208,
   "metadata": {},
   "outputs": [],
   "source": [
    "# Apply filter\n",
    "# Correct orbit with SOFB\n",
    "kick_s = np.linalg.pinv(sofb_respmat) @ orbd.T\n",
    "\n",
    "# Keep only the kicks from the 4 SOFB corrs. closest to the ID\n",
    "# Select corrector closest to the ID\n",
    "\n",
    "nr_corrs = 4\n",
    "\n",
    "fam_data = si.get_family_data(model)\n",
    "if beamline == 'EMA':\n",
    "    ivu_idc = fam_data['IVU18']['index'][0]\n",
    "elif beamline == 'PAINEIRA':\n",
    "    ivu_idc = fam_data['IVU18']['index'][1]\n",
    "ivu_idc = int(np.array(ivu_idc).mean())\n",
    "\n",
    "idcs_allch = fam_data['CH']['index']\n",
    "idcs_allcv = fam_data['CV']['index']\n",
    "idcs_allch = np.array(idcs_allch).reshape(len(idcs_allch))\n",
    "idcs_allcv = np.array(idcs_allcv).reshape(len(idcs_allcv))\n",
    "\n",
    "idcsclosest_ch = np.sort(np.argsort(np.abs(idcs_allch - ivu_idc), axis=0)[:nr_corrs])\n",
    "idcsclosest_cv = np.sort(np.argsort(np.abs(idcs_allcv - ivu_idc), axis=0)[:nr_corrs])\n",
    "\n",
    "idcs_corrsch_model = idcs_allch[idcsclosest_ch]\n",
    "idcs_corrscv_model = idcs_allcv[idcsclosest_cv]\n",
    "\n",
    "mask = np.zeros(len(kick_s))\n",
    "mask[idcsclosest_ch] = 1\n",
    "mask[len(idcs_allch)+idcsclosest_cv] = 1\n",
    "mask = np.full((nr_pts, mask.shape[0]), mask)\n",
    "mask = np.swapaxes(mask, 0, 1)\n",
    "\n",
    "kick_s *= mask\n",
    "\n",
    "# Calculate the Filtered Orbit Distortion (local, ID distortion)\n",
    "orb_dist_f = (sofb_respmat @ kick_s).T\n",
    "\n",
    "# Calculate the ID correctors kicks to correct the local distortions\n",
    "corr_kicks = (np.linalg.pinv(respmat) @ orb_dist_f.T)"
   ]
  },
  {
   "cell_type": "markdown",
   "metadata": {},
   "source": [
    "### IF necessary convert strength to current"
   ]
  },
  {
   "cell_type": "code",
   "execution_count": null,
   "metadata": {},
   "outputs": [],
   "source": [
    "# If measured local corrs respmat was used\n",
    "corr_currents = corr_kicks"
   ]
  },
  {
   "cell_type": "code",
   "execution_count": 225,
   "metadata": {},
   "outputs": [],
   "source": [
    "from siriuspy.magnet.factory import NormalizerFactory"
   ]
  },
  {
   "cell_type": "code",
   "execution_count": null,
   "metadata": {},
   "outputs": [],
   "source": [
    "corr_currents = np.zeros(corr_kicks.shape)\n",
    "for i, corrname in enumerate(corr_names):\n",
    "    n = NormalizerFactory.create(corrname.replace('PS', 'MA'))\n",
    "    corr_currents[i, :] = n.conv_strength_2_current(corr_kicks[i, :], strengths_dipole=3)"
   ]
  },
  {
   "cell_type": "markdown",
   "metadata": {},
   "source": [
    "# Gaussian process"
   ]
  },
  {
   "cell_type": "code",
   "execution_count": null,
   "metadata": {},
   "outputs": [],
   "source": [
    "# Here \n",
    "ker = gpy.kern.RBF(input_dim=1)\n",
    "ch1_kicks = corr_currents[0, :]\n",
    "ch2_kicks = corr_currents[1, :]\n",
    "cv1_kicks = corr_currents[2, :]\n",
    "cv2_kicks = corr_currents[3, :]\n",
    "\n",
    "gaps = np.linspace(4.2, 24, 200)\n",
    "X = gaps.T\n",
    "Y = np.vstack([ch1_kicks, ch2_kicks, cv1_kicks, cv2_kicks]).T\n",
    "model = gpy.models.GPRegression(X, Y, ker)\n",
    "model.optimize_restarts(num_restarts=10, num_processes=6, verbose=True)\n",
    "\n",
    "y_pred, var = model.predict(X)"
   ]
  },
  {
   "cell_type": "markdown",
   "metadata": {},
   "source": [
    "# Format Table"
   ]
  },
  {
   "cell_type": "code",
   "execution_count": 253,
   "metadata": {},
   "outputs": [
    {
     "data": {
      "text/plain": [
       "{'description': 'Config created with IDFFConfig.create_template_config',\n",
       " 'polarizations': {'horizontal': {'ch1': [1, 0],\n",
       "   'ch2': [2, 0],\n",
       "   'cv1': [3, 0],\n",
       "   'cv2': [4, 0],\n",
       "   'kparameter': [4.2, 24],\n",
       "   'lch': [5, 0],\n",
       "   'pparameter': None}},\n",
       " 'pvnames': {'ch1': 'SI-08SB:PS-CH-1:Current-SP',\n",
       "  'ch2': 'SI-08SB:PS-CH-2:Current-SP',\n",
       "  'cv1': 'SI-08SB:PS-CV-1:Current-SP',\n",
       "  'cv2': 'SI-08SB:PS-CV-2:Current-SP',\n",
       "  'kparameter': 'SI-08SB:ID-IVU18:Gap-Mon',\n",
       "  'lch': 'SI-08SB:PS-LCH:Current-SP',\n",
       "  'pparameter': None}}"
      ]
     },
     "execution_count": 253,
     "metadata": {},
     "output_type": "execute_result"
    }
   ],
   "source": [
    "clt = ConfigDBClient(config_type='si_idff')\n",
    "config = clt.get_config_value('ivu18_ref')\n",
    "config"
   ]
  },
  {
   "cell_type": "code",
   "execution_count": 258,
   "metadata": {},
   "outputs": [
    {
     "data": {
      "text/plain": [
       "{'ch1': [1, 0],\n",
       " 'ch2': [2, 0],\n",
       " 'cv1': [3, 0],\n",
       " 'cv2': [4, 0],\n",
       " 'kparameter': [4.2, 24],\n",
       " 'lch': [5, 0],\n",
       " 'pparameter': None}"
      ]
     },
     "execution_count": 258,
     "metadata": {},
     "output_type": "execute_result"
    }
   ],
   "source": [
    "config['description'] = 'Feedforward table. Measured on 2024/10/23. Only CHs and CVs'\n",
    "config['polarizations']['horizontal']['ch1'] = -1*y_pred[0].tolist()\n",
    "config['polarizations']['horizontal']['ch2'] = -1*y_pred[1].tolist()\n",
    "config['polarizations']['horizontal']['cv1'] = -1*y_pred[2].tolist()\n",
    "config['polarizations']['horizontal']['cv2'] = -1*y_pred[3].tolist()\n",
    "config['polarizations']['horizontal']['cv2'] = np.zeros(len(gaps)).tolist()\n",
    "config['polarizations']['horizontal']['kparameter'] = gaps.tolist()"
   ]
  },
  {
   "cell_type": "code",
   "execution_count": null,
   "metadata": {},
   "outputs": [],
   "source": [
    "clt.check_valid_value(config)\n",
    "clt.insert_config('ivu18_only_ch_cv', config)"
   ]
  }
 ],
 "metadata": {
  "kernelspec": {
   "display_name": "sirius",
   "language": "python",
   "name": "python3"
  },
  "language_info": {
   "codemirror_mode": {
    "name": "ipython",
    "version": 3
   },
   "file_extension": ".py",
   "mimetype": "text/x-python",
   "name": "python",
   "nbconvert_exporter": "python",
   "pygments_lexer": "ipython3",
   "version": "3.9.2"
  }
 },
 "nbformat": 4,
 "nbformat_minor": 2
}
