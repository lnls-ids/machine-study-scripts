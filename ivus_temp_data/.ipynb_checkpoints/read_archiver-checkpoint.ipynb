{
 "cells": [
  {
   "cell_type": "code",
   "execution_count": null,
   "metadata": {},
   "outputs": [],
   "source": [
    "import numpy as np\n",
    "import matplotlib.pyplot as plt\n",
    "\n",
    "from siriuspy.search import PSSearch\n",
    "from siriuspy.clientarch import Time, PVDataSet\n",
    "import pymodels, pyaccel\n",
    "from datetime import datetime"
   ]
  },
  {
   "cell_type": "code",
   "execution_count": null,
   "metadata": {},
   "outputs": [],
   "source": [
    "kparam_pv = ['SI-10SB:ID-DELTA52:KParam-Mon']\n",
    "pparam_pv = ['SI-10SB:ID-DELTA52:PParam-Mon']\n",
    "beam_width_pv = ['CAX:B:BASLER01:ImgROIXFitSigma-Mon']\n",
    "beam_height_pv = ['CAX:B:BASLER01:ImgROIYFitSigma-Mon']\n",
    "beam_angle_pv = ['CAX:B:BASLER01:ImgFitAngle-Mon']\n",
    "beam_xpos_pv = ['CAX:B:BASLER01:ImgROIXFitMean-Mon']\n",
    "beam_ypos_pv = ['CAX:B:BASLER01:ImgROIYFitMean-Mon']\n",
    "tunex_pv = ['SI-Glob:DI-Tune-H:TuneFrac-Mon']\n",
    "tuney_pv = ['SI-Glob:DI-Tune-V:TuneFrac-Mon']\n",
    "lifet_pv = ['SI-Glob:AP-CurrInfo:Lifetime-Mon']\n",
    "inj_eff_pv = ['SI-Glob:AP-CurrInfo:InjEff-Mon']\n",
    "\n",
    "\n",
    "pvnames = kparam_pv + pparam_pv + beam_width_pv + beam_height_pv + beam_angle_pv + beam_xpos_pv + beam_ypos_pv + tunex_pv + tuney_pv + lifet_pv + inj_eff_pv"
   ]
  },
  {
   "cell_type": "code",
   "execution_count": null,
   "metadata": {},
   "outputs": [],
   "source": [
    "def get_pvdata(pvnames, timeout, init_h=11, end_h=15, init_m=0, end_m=0):\n",
    "    pvs_data = PVDataSet(pvnames)\n",
    "    pvs_data.timeout = timeout\n",
    "    pvs_data.time_start = Time(2023, 11, 16, init_h, init_m, 0)\n",
    "    pvs_data.time_stop = Time(2023, 11, 16, end_h, end_m, 0)\n",
    "    pvs_data.update(mean_sec=5)\n",
    "    t0 = pvs_data[pvnames[0]].timestamp[0]\n",
    "    return pvs_data, t0, pvs_data[pvnames[0]].timestamp"
   ]
  },
  {
   "cell_type": "code",
   "execution_count": null,
   "metadata": {},
   "outputs": [],
   "source": [
    "def plot_raw_data(pvnames, pvs_data, t0):\n",
    "    for pvname in pvnames:\n",
    "        pvd = pvs_data[pvname]\n",
    "        data = pvd.value\n",
    "        timestamp = pvd.timestamp - t0\n",
    "        diff = data - data[0]\n",
    "        plt.plot(timestamp, diff)\n",
    "    plt.xlabel('time [s]')\n",
    "    plt.show()"
   ]
  }
 ],
 "metadata": {
  "language_info": {
   "name": "python"
  }
 },
 "nbformat": 4,
 "nbformat_minor": 2
}
