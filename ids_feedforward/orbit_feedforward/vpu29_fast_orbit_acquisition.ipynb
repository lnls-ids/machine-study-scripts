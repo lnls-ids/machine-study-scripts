{
 "cells": [
  {
   "cell_type": "code",
   "execution_count": 1,
   "metadata": {},
   "outputs": [],
   "source": [
    "\n",
    "import os"
   ]
  },
  {
   "cell_type": "code",
   "execution_count": 2,
   "metadata": {},
   "outputs": [
    {
     "data": {
      "text/plain": [
       "' 10.128.1.12:5064 10.128.1.12:5070 10.128.1.13:5064 10.128.1.13:5068 10.128.1.13:5070 10.128.1.54 10.128.1.55  10.0.38.29  10.0.38.37 10.0.38.39 10.0.38.52 10.0.38.35 10.0.38.143  10.0.38.31 10.0.38.150  10.31.74.16 10.0.38.83 10.0.38.72 10.0.38.149 10.0.38.36  10.30.14.19 10.30.13.22 10.39.50.46 10.31.54.38 10.32.74.44  10.10.10.124  10.0.28.64   10.0.38.35'"
      ]
     },
     "execution_count": 2,
     "metadata": {},
     "output_type": "execute_result"
    }
   ],
   "source": [
    "os.environ['EPICS_CA_ADDR_LIST'] += ' 10.0.38.35'\n",
    "os.environ['EPICS_CA_ADDR_LIST']"
   ]
  },
  {
   "cell_type": "code",
   "execution_count": 3,
   "metadata": {},
   "outputs": [],
   "source": [
    "import numpy as np\n",
    "from datetime import datetime\n",
    "import time\n",
    "from siriuspy.search import IDSearch\n",
    "from apsuite.commisslib.meas_bpms_signals import AcqBPMsSignals\n",
    "from siriuspy.devices import HLFOFB, SOFB, VPU, IDFF\n",
    "import epics"
   ]
  },
  {
   "cell_type": "code",
   "execution_count": 4,
   "metadata": {},
   "outputs": [],
   "source": [
    "def initialize_vpu(beamline):\n",
    "    # Search ID\n",
    "    devnamevpu = IDSearch.conv_beamline_2_idname(beamline=beamline)\n",
    "    vpu = VPU(devname=devnamevpu)\n",
    "\n",
    "    # Disable beamline control\n",
    "    vpu.cmd_beamline_ctrl_disable()\n",
    "    print('beamline control: ', vpu.is_beamline_ctrl_enabled)\n",
    "\n",
    "    # Set gap speed\n",
    "    vpu.set_gap_speed(0.1)\n",
    "    time.sleep(0.5)\n",
    "    print('gap speed: {:.3f} mm/s'.format(vpu.gap_speed))\n",
    "\n",
    "    # Set gap to parked condition\n",
    "    vpu.set_gap(vpu.kparameter_parked)\n",
    "    time.sleep(0.5)\n",
    "    print('gap: {:.3f} mm'.format(vpu.gap))\n",
    "\n",
    "    return vpu\n",
    "\n",
    "def move_vpu_gap(vpu:VPU, gap, timeout, verbose=False):\n",
    "    vpu.set_gap(gap)\n",
    "    time.sleep(0.5)\n",
    "    print('Gap-RB {:.3f} mm'.format(vpu.gap)) if verbose else 0\n",
    "    if vpu.cmd_move_start(timeout):\n",
    "        time.sleep(0.5)\n",
    "        print('Undulator is moving...') if verbose else 0\n",
    "        while vpu.is_moving:\n",
    "            time.sleep(0.1)\n",
    "            print('Current gap {:.3f} mm.'.format(vpu.gap_mon), end='\\r') if verbose else 0\n",
    "        print('Gap {:.3f} mm reached.'.format(vpu.gap)) if verbose else 0\n",
    "        return True\n",
    "    else:\n",
    "        print('Error while cmd_move_start.')\n",
    "        return False\n",
    "    \n",
    "def configure_acquisition_params(orbacq, timeout=40, nrptsbefore=10000, nrptsafter=100000):\n",
    "    \"\"\".\"\"\"\n",
    "    params = orbacq.params\n",
    "    params.signals2acq = 'XY'\n",
    "    params.acq_rate = 'FAcq' \n",
    "    params.timeout = 40\n",
    "\n",
    "    params.nrpoints_before = nrptsbefore  # Default: 1000\n",
    "    params.nrpoints_after = nrptsafter  # Default: 10000\n",
    "    params.acq_repeat = False\n",
    "    params.trigbpm_delay = None\n",
    "    params.trigbpm_nrpulses = 1\n",
    "\n",
    "    params.timing_event = 'Study' \n",
    "    params.event_mode = 'External'\n",
    "    params.event_delay = None\n",
    "    params.do_pulse_evg = False  # Default: False\n",
    "    print('--- orbit acquisition configuration ---')\n",
    "    print(params)\n",
    "\n",
    "\n",
    "def send_ext_trigger(evt):\n",
    "    evt.cmd_external_trigger()\n",
    "    return time.time()\n",
    "\n",
    "\n",
    "def acquire_data_moving(orbacq, vpu, start_gap, end_gap):\n",
    "    \"\"\".\"\"\"\n",
    "    fambpms = orbacq.devices[\"fambpms\"]\n",
    "    ret = orbacq.prepare_bpms_acquisition()\n",
    "    tag = orbacq._bpm_tag(idx=abs(int(ret))-1)\n",
    "    if ret < 0:\n",
    "        print(tag + \" did not finish last acquisition.\")\n",
    "    elif ret > 0:\n",
    "        print(tag + \" is not ready for acquisition.\")\n",
    "\n",
    "    fambpms.reset_mturn_initial_state()\n",
    "    orbacq.trigger_timing_signal()\n",
    "    evt = orbacq._get_event(orbacq.params.timing_event)\n",
    "\n",
    "    move_vpu_gap(vpu, gap=start_gap, timeout=3, verbose=True)\n",
    "    vpu.set_gap(end_gap)\n",
    "    time.sleep(0.5)\n",
    "    print('Gap-RB {:.3f} mm'.format(vpu.gap))\n",
    "\n",
    "    pv_gap = vpu.pv_object(vpu.PARAM_PVS.KPARAM_MON)\n",
    "    pv_gap.auto_monitor = True\n",
    "    id_gaps, id_tss = [], []\n",
    "    def pv_gap_callback(pvname, value, **kwargs):\n",
    "        id_gaps.append(value)\n",
    "        id_tss.append(time.time())\n",
    "    idx_cb = pv_gap.add_callback(pv_gap_callback)\n",
    "    time.sleep(1)\n",
    "\n",
    "    t0_ = send_ext_trigger(evt)\n",
    "    time.sleep(0.3)\n",
    "    vpu.cmd_move_start(timeout=3)\n",
    "\n",
    "    time0 = time.time()\n",
    "    ret = fambpms.wait_update_mturn(timeout=orbacq.params.timeout)\n",
    "    print(f\"it took {time.time()-time0:02f}s to update bpms\")\n",
    "    if ret != 0:\n",
    "        print(\"There was a problem with acquisition\")\n",
    "        if ret > 0:\n",
    "            tag = orbacq._bpm_tag(idx=int(ret)-1)\n",
    "            pos = fambpms.mturn_signals2acq[int((ret % 1) * 10) - 1]\n",
    "            print(\"This BPM did not update: \" + tag + \", signal \" + pos)\n",
    "        elif ret == -1:\n",
    "            print(\"Initial timestamps were not defined\")\n",
    "        elif ret == -2:\n",
    "            print(\"Signals size changed.\")\n",
    "        return\n",
    "    orbacq.data = orbacq.get_data()\n",
    "    pv_gap.remove_callback(idx_cb)\n",
    "    pv_gap.auto_monitor = False\n",
    "    orbacq.data['vpu_data'] = dict(\n",
    "        id_gaps=id_gaps, id_timestamps=id_tss, trig_timestamp=t0_\n",
    "    )\n",
    "    \n",
    "\n",
    "def measure(orbacq, vpu, start_gap, end_gap):\n",
    "    \"\"\".\"\"\"\n",
    "    init_state = orbacq.get_timing_state()\n",
    "    orbacq.prepare_timing()\n",
    "    print((\n",
    "        'Please check BPM acquisition status, or wait a few seconds, '\n",
    "        ' before triggering event!'))\n",
    "    try:\n",
    "        acquire_data_moving(orbacq, vpu, start_gap, end_gap)\n",
    "    except Exception as e:\n",
    "        print(f\"An error occurred during acquisition: {e}\")\n",
    "    # Restore initial timing state, regardless acquisition status\n",
    "    orbacq.recover_timing_state(init_state)\n",
    "    return orbacq.data is not None\n",
    "\n",
    "\n",
    "def initialize(timeout, nrptsbefore, nrptsafter):\n",
    "    \"\"\".\"\"\"\n",
    "    orbacq = AcqBPMsSignals(isonline=True)\n",
    "    configure_acquisition_params(orbacq, timeout, nrptsbefore, nrptsafter)\n",
    "    print('--- orbit acquisition connection ---')\n",
    "    if not orbacq.wait_for_connection(timeout=100):\n",
    "        raise RuntimeError('Orbacq did not connect.')\n",
    "    return orbacq\n",
    "\n",
    "\n",
    "def create_devices(beamline):\n",
    "    \"\"\".\"\"\"\n",
    "    sofb = SOFB(SOFB.DEVICES.SI)\n",
    "    fofb = HLFOFB(HLFOFB.DEVICES.SI)\n",
    "    \n",
    "    # Search ID\n",
    "    devname = IDSearch.conv_beamline_2_idname(beamline=beamline)\n",
    "    vpu = VPU(devname=devname)\n",
    "    devices = sofb, fofb\n",
    "    for dev in devices:\n",
    "        if not dev.wait_for_connection(timeout=5):\n",
    "            raise RuntimeError(f'{dev.devname:s} did not conect!')\n",
    "\n",
    "    return sofb, fofb, vpu\n",
    "\n",
    "\n",
    "def read_feedback_status(devs, orbacq):\n",
    "    \"\"\".\"\"\"\n",
    "    sofb, fofb, _ = devs\n",
    "    orbacq.data['sofb_loop_state'] = sofb.autocorrsts\n",
    "    orbacq.data['fofb_loop_state'] = fofb.loop_state\n"
   ]
  },
  {
   "cell_type": "code",
   "execution_count": 5,
   "metadata": {},
   "outputs": [
    {
     "name": "stdout",
     "output_type": "stream",
     "text": [
      "--- orbit acquisition configuration ---\n",
      "trigbpm_delay              = same       (current value will not be changed)\n",
      "trigbpm_nrpulses           =         1  \n",
      "do_pulse_evg               = False      \n",
      "timing_event               = Study      \n",
      "event_delay                = same       (current value will not be changed)\n",
      "event_mode                 = External   \n",
      "timeout                    = 40.000000  [s]\n",
      "nrpoints_before            =     10000  \n",
      "nrpoints_after             =     90000  \n",
      "acq_rate                   = FAcq       \n",
      "acq_repeat                 =         0  \n",
      "signals2acq                = XY         \n",
      "\n",
      "--- orbit acquisition connection ---\n"
     ]
    }
   ],
   "source": [
    "timeout = 40\n",
    "nrptsbefore=10000\n",
    "nrptsafter=90000\n",
    "\n",
    "beamline='CARNAUBA'\n",
    "devs = create_devices(beamline)\n",
    "orbacq = initialize(timeout, nrptsbefore, nrptsafter)"
   ]
  },
  {
   "cell_type": "code",
   "execution_count": 8,
   "metadata": {},
   "outputs": [],
   "source": [
    "start_gap = 9.7\n",
    "devs[-1].set_gap_speed(1)\n",
    "devs[-1].set_gap(start_gap)\n",
    "devs[-1].cmd_move_start()\n",
    "\n",
    "end_gap = 25\n",
    "gap_speed = 1.0\n",
    "\n",
    "vpu = devs[-1]\n",
    "fofb = devs[1]\n",
    "loopstate = fofb.auto_monitor_status['LoopState-Sel']\n",
    "loopstate = 'ON' if loopstate is True else 'OFF'\n",
    "\n",
    "ffstate = epics.caget('SI-06SB:BS-IDFF-CC:LoopState-Sts')\n",
    "ffstate = 'ON' if ffstate == 1 else 'OFF'"
   ]
  },
  {
   "cell_type": "code",
   "execution_count": 9,
   "metadata": {},
   "outputs": [
    {
     "name": "stdout",
     "output_type": "stream",
     "text": [
      "Please check BPM acquisition status, or wait a few seconds,  before triggering event!\n",
      "Gap-RB 9.700 mm\n",
      "Undulator is moving...\n",
      "Gap 9.700 mm reached.\n",
      "Gap-RB 25.000 mm\n",
      "it took 26.030848s to update bpms\n",
      "\n",
      "Data saved at 2025-06-16_20h39m57s\n"
     ]
    }
   ],
   "source": [
    "vpu.set_gap_speed(gap_speed)\n",
    "time.sleep(0.5)\n",
    "\n",
    "filename_prefix = 'VPU29_' + beamline + '_{:.1f}-{:.1f}_mm'.format(start_gap, end_gap)\n",
    "filename_prefix += 'FF{}_FB{}_gspeed_{:.3f}'.format(ffstate, loopstate, gap_speed)\n",
    "\n",
    "if measure(orbacq, vpu, start_gap, end_gap):\n",
    "    read_feedback_status(devs, orbacq)\n",
    "    now = datetime.now()\n",
    "    str_rate = f'FAcq_rate_'\n",
    "    str_now = now.strftime('%Y-%m-%d_%Hh%Mm%Ss')\n",
    "    filename = filename_prefix + str_rate + str_now\n",
    "    orbacq.save_data(filename, overwrite=False)\n",
    "    print(f'\\nData saved at {str_now:s}')\n",
    "else:\n",
    "    print('\\nData NOT saved!')"
   ]
  },
  {
   "cell_type": "code",
   "execution_count": 21,
   "metadata": {},
   "outputs": [
    {
     "name": "stdout",
     "output_type": "stream",
     "text": [
      "['IVU18_EMA_14.0-4.2_mm_gspeed_0.500FAcq_rate_2024-11-01_10h10m34s.pickle', 'IVU18_EMA_4.2-24.0_mm_gspeed_1.000FAcq_rate_2024-11-01_09h57m27s.pickle', 'IVU18_EMA_4.2-24.0_mm_gspeed_1.000FAcq_rate_2024-10-31_17h59m46s.pickle', 'IVU18_EMA_4.2-24.0_mm_gspeed_1.000FAcq_rate_2024-11-01_10h02m00s.pickle', 'orbit_distortions_corrs_IVU_EMA_iter0.pickle', 'IVU18_EMA_24.0-17.0_mm_gspeed_0.500FAcq_rate_2024-10-31_08h58m51s.pickle', 'ref_orb.pickle', 'IVU18_EMA_24.0-4.2_mm_gspeed_1.000FAcq_rate_2024-11-01_09h54m42s.pickle', 'orbit_distortions_IVU_EMA_iter0.pickle', 'orbit_distortions_IVU_PAINEIRA_iter0.pickle', 'orbit_distortions_corrs_IVU_PAINEIRA_iter0.pickle', 'IVU18_EMA_10.0-4.2_mm_gspeed_1.000FAcq_rate_2024-10-31_16h35m20s.pickle', 'IVU18_EMA_10.0-4.2_mm_gspeed_1.000FAcq_rate_2024-10-31_11h01m00s.pickle', 'IVU18_PAINEIRA_24.0-4.2_mm_gspeed_1.000FAcq_rate_2024-10-31_18h12m07s.pickle', 'IVU18_EMA_24.0-4.2_mm_gspeed_0.500FAcq_rate_2024-11-01_10h09m09s.pickle', 'IVU18_EMA_4.2-10.0_mm_gspeed_1.000FAcq_rate_2024-10-31_10h59m52s.pickle', 'IVU18_EMA_4.2-14.0_mm_gspeed_0.250FAcq_rate_2024-11-01_10h33m11s.pickle', 'IVU18_EMA_4.2-13.0_mm_gspeed_1.000FAcq_rate_2024-10-31_16h40m20s.pickle', 'orbit_distortions_IVU_EMA_iter1.pickle', 'IVU18_EMA_4.2-15.0_mm_gspeed_1.000FAcq_rate_2024-11-01_09h49m49s.pickle', 'IVU18_EMA_4.2-24.0_mm_gspeed_0.500FAcq_rate_2024-11-01_10h05m50s.pickle', 'orbit_distortions_IVU_PAINEIRA_iter1.pickle']\n"
     ]
    }
   ],
   "source": [
    "import glob\n",
    "filenames = glob.glob('*.pickle')\n",
    "print(filenames)"
   ]
  },
  {
   "cell_type": "code",
   "execution_count": null,
   "metadata": {},
   "outputs": [],
   "source": []
  }
 ],
 "metadata": {
  "kernelspec": {
   "display_name": "Python 3",
   "language": "python",
   "name": "python3"
  },
  "language_info": {
   "codemirror_mode": {
    "name": "ipython",
    "version": 3
   },
   "file_extension": ".py",
   "mimetype": "text/x-python",
   "name": "python",
   "nbconvert_exporter": "python",
   "pygments_lexer": "ipython3",
   "version": "3.6.8"
  },
  "vscode": {
   "interpreter": {
    "hash": "aee8b7b246df8f9039afb4144a1f6fd8d2ca17a180786b69acc140d282b71a49"
   }
  }
 },
 "nbformat": 4,
 "nbformat_minor": 2
}
