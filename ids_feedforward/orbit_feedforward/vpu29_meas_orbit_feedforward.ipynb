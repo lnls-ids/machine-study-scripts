{
 "cells": [
  {
   "cell_type": "code",
   "execution_count": 1,
   "metadata": {},
   "outputs": [],
   "source": [
    "import time\n",
    "import os\n",
    "from datetime import datetime\n",
    "\n",
    "\n",
    "timeout = 3"
   ]
  },
  {
   "cell_type": "code",
   "execution_count": 2,
   "metadata": {},
   "outputs": [
    {
     "data": {
      "text/plain": [
       "' 10.128.1.12:5064 10.128.1.12:5070 10.128.1.13:5064 10.128.1.13:5068 10.128.1.13:5070 10.128.1.54 10.128.1.55  10.0.38.29  10.0.38.37 10.0.38.39 10.0.38.52 10.0.38.35 10.0.38.143  10.0.38.31 10.0.38.150  10.31.74.16 10.0.38.83 10.0.38.72 10.0.38.149 10.0.38.36  10.30.14.19 10.30.13.22 10.39.50.46 10.31.54.38 10.32.74.44  10.10.10.124  10.0.28.64   10.0.38.35'"
      ]
     },
     "execution_count": 2,
     "metadata": {},
     "output_type": "execute_result"
    }
   ],
   "source": [
    "os.environ['EPICS_CA_ADDR_LIST'] += ' 10.0.38.35'\n",
    "os.environ['EPICS_CA_ADDR_LIST']"
   ]
  },
  {
   "cell_type": "code",
   "execution_count": 3,
   "metadata": {},
   "outputs": [],
   "source": [
    "\n",
    "import numpy as np\n",
    "import matplotlib.pyplot as plt\n",
    "\n",
    "from siriuspy.search import IDSearch\n",
    "from siriuspy.devices import VPU, SOFB, HLFOFB, IDFF, Tune, DVFImgProc, BunchbyBunch\n",
    "from siriuspy.devices.bbb import SingleBunch\n",
    "\n",
    "from mathphys.functions import save, load\n",
    "import epics"
   ]
  },
  {
   "cell_type": "markdown",
   "metadata": {},
   "source": [
    "# Functions definition"
   ]
  },
  {
   "cell_type": "code",
   "execution_count": 4,
   "metadata": {},
   "outputs": [],
   "source": [
    "def initialize_vpu(beamline):\n",
    "    # Search ID\n",
    "    devnamevpu = IDSearch.conv_beamline_2_idname(beamline=beamline)\n",
    "    vpu = VPU(devname=devnamevpu)\n",
    "\n",
    "    # Disable beamline control\n",
    "    vpu.cmd_beamline_ctrl_disable()\n",
    "    print('beamline control: ', vpu.is_beamline_ctrl_enabled)\n",
    "\n",
    "    # Set gap speed\n",
    "    # vpu.set_gap_speed(0.1)\n",
    "    # time.sleep(0.5)\n",
    "    # print('gap speed: {:.3f} mm/s'.format(vpu.gap_speed))\n",
    "\n",
    "    # # Set gap to parked condition\n",
    "    # vpu.set_gap(vpu.kparameter_parked)\n",
    "    # time.sleep(0.5)\n",
    "    # print('gap: {:.3f} mm'.format(vpu.gap))\n",
    "\n",
    "    return vpu\n",
    "\n",
    "def move_vpu_gap(vpu:VPU, gap, timeout, verbose=False):\n",
    "    vpu.set_gap(gap)\n",
    "    time.sleep(0.5)\n",
    "    print('Gap-RB {:.3f} mm'.format(vpu.gap)) if verbose else 0\n",
    "    if vpu.cmd_move_start(timeout):\n",
    "        time.sleep(0.5)\n",
    "        print('Undulator is moving...') if verbose else 0\n",
    "        while vpu.is_moving:\n",
    "            time.sleep(0.1)\n",
    "            print('Current gap {:.3f} mm.'.format(vpu.gap_mon), end='\\r') if verbose else 0\n",
    "        print('Gap {:.3f} mm reached.'.format(vpu.gap)) if verbose else 0\n",
    "        return True\n",
    "    else:\n",
    "        print('Error while cmd_move_start.')\n",
    "        return False\n",
    "\n",
    "def move_vpu_gap_robust(vpu:VPU, gap, timeout, maxiter=3, verbose=False):\n",
    "    sucess = move_vpu_gap(vpu, gap=gap, timeout=timeout, verbose=verbose)\n",
    "    i=0\n",
    "    while not sucess and i<maxiter:\n",
    "        i += 1\n",
    "        print('Trying {:0f}/{:.0f}'.format(i, maxiter)) if verbose else 0\n",
    "        vpu.cmd_reset(timeout=timeout)\n",
    "        time.sleep(0.5)\n",
    "        sucess = move_vpu_gap(vpu, gap=gap, timeout=timeout, verbose=verbose)\n",
    "    if sucess:\n",
    "        print('Movimentation done!\\n')\n",
    "        return True\n",
    "    else:\n",
    "        print('Error while moving.\\n')\n",
    "        return False\n",
    "\n",
    "def get_CAX_and_tune_data(bbb_h, bbb_v, tune, imgproc, nr_acq=10, acq_sleep=0.5):\n",
    "        \"\"\"Get data.\n",
    "\n",
    "        Returns:\n",
    "            data: Numpy 1d array\n",
    "        \"\"\"\n",
    "        sigmax = np.zeros(nr_acq)\n",
    "        sigmay = np.zeros(nr_acq)\n",
    "        sigma1 = np.zeros(nr_acq)\n",
    "        sigma2 = np.zeros(nr_acq)\n",
    "        angle = np.zeros(nr_acq)\n",
    "        # images = np.zeros((nr_acq, imgproc.image_sizey, imgproc.image_sizex))\n",
    "        for i in range(nr_acq):\n",
    "            sigmax[i] = imgproc.roix_fit_sigma\n",
    "            sigmay[i] = imgproc.roiy_fit_sigma\n",
    "            sigma1[i] = imgproc.fit_sigma1\n",
    "            sigma2[i] = imgproc.fit_sigma2\n",
    "            angle[i] = imgproc.fit_angle\n",
    "            # images[i] = imgproc.image\n",
    "            time.sleep(acq_sleep)\n",
    "\n",
    "        img_params = np.zeros((5, nr_acq))\n",
    "        img_params[0, :] = sigmax\n",
    "        img_params[1, :] = sigmay\n",
    "        img_params[2, :] = sigma1\n",
    "        img_params[3, :] = sigma2\n",
    "        img_params[4, :] = angle\n",
    "        \n",
    "        tunex, tuney, tunex_bbb, tuney_bbb = get_tunes(bbb_h, bbb_v, tune)\n",
    "        tunes = [tunex, tuney, tunex_bbb, tuney_bbb]\n",
    "        \n",
    "        return img_params, tunes\n",
    "\n",
    "def get_tune_data(tune, nr_acq=10, acq_sleep=0.5):\n",
    "    tunex = np.zeros(nr_acq)\n",
    "    tuney = np.zeros(nr_acq)\n",
    "    for i in range(nr_acq):\n",
    "        tunex[i] = tune.tunex\n",
    "        tuney[i] = tune.tuney\n",
    "        time.sleep(acq_sleep)\n",
    "    return tunex, tuney\n",
    "\n",
    "def acquire_tunes(tune, nr_acq, delay=0.2):\n",
    "    tunex = np.zeros(nr_acq)\n",
    "    tuney = np.zeros(nr_acq)\n",
    "    for i in np.arange(nr_acq):\n",
    "        tunex[i] = tune.tunex\n",
    "        tuney[i] = tune.tuney\n",
    "        time.sleep(delay)\n",
    "    return tunex, tuney\n",
    "\n",
    "def acquire_tunes_bbb(bbb_h, bbb_v, nr_acq, delay=0.2):\n",
    "    tunex = np.zeros(nr_acq)\n",
    "    tuney = np.zeros(nr_acq)\n",
    "    for i in np.arange(nr_acq):\n",
    "        tunex[i] = bbb_h.spec_marker1_tune\n",
    "        tuney[i] = bbb_v.spec_marker1_tune\n",
    "        time.sleep(delay)\n",
    "    return tunex, tuney\n",
    "\n",
    "def acquire_tunes_mixed(bbb_h, bbb_v, tune, nr_acq, delay=0.2):\n",
    "    tunex_bbb = np.zeros(nr_acq)\n",
    "    tuney_bbb = np.zeros(nr_acq)\n",
    "    tunex = np.zeros(nr_acq)\n",
    "    tuney = np.zeros(nr_acq)\n",
    "    for i in np.arange(nr_acq):\n",
    "        tunex_bbb[i] = bbb_h.spec_marker1_tune\n",
    "        tuney_bbb[i] = bbb_v.spec_marker1_tune\n",
    "        tunex[i] = tune.tunex\n",
    "        tuney[i] = tune.tuney\n",
    "        time.sleep(delay)\n",
    "    return tunex, tuney, tunex_bbb, tuney_bbb\n",
    "\n",
    "def get_tunes(bbb_h, bbb_v, tune):\n",
    "    tunex, tuney, tunex_bbb, tuney_bbb = acquire_tunes_mixed(bbb_h, bbb_v, tune, 20, 0.2)\n",
    "    tunex_bbb = np.median(tunex_bbb)\n",
    "    tuney_bbb = np.median(tuney_bbb)\n",
    "    tuney = np.median(tuney)\n",
    "    tunex = np.median(tunex)\n",
    "    return tunex, tuney, tunex_bbb, tuney_bbb\n"
   ]
  },
  {
   "cell_type": "markdown",
   "metadata": {},
   "source": [
    "## Search devnames"
   ]
  },
  {
   "cell_type": "code",
   "execution_count": 5,
   "metadata": {},
   "outputs": [],
   "source": [
    "devnamevpu = IDSearch.conv_beamline_2_idname(beamline='CARNAUBA')"
   ]
  },
  {
   "cell_type": "markdown",
   "metadata": {},
   "source": [
    "## Initialize devices"
   ]
  },
  {
   "cell_type": "code",
   "execution_count": 6,
   "metadata": {},
   "outputs": [
    {
     "name": "stdout",
     "output_type": "stream",
     "text": [
      "beamline control:  False\n",
      "1.0\n"
     ]
    }
   ],
   "source": [
    "vpu = initialize_vpu(beamline='CARNAUBA')\n",
    "vpu.set_gap_speed(1)\n",
    "time.sleep(0.5)\n",
    "print(vpu.gap_speed)"
   ]
  },
  {
   "cell_type": "code",
   "execution_count": 7,
   "metadata": {},
   "outputs": [
    {
     "data": {
      "text/plain": [
       "20.000183000000007"
      ]
     },
     "execution_count": 7,
     "metadata": {},
     "output_type": "execute_result"
    }
   ],
   "source": [
    "vpu.gap_mon"
   ]
  },
  {
   "cell_type": "code",
   "execution_count": 10,
   "metadata": {},
   "outputs": [
    {
     "data": {
      "text/plain": [
       "True"
      ]
     },
     "execution_count": 10,
     "metadata": {},
     "output_type": "execute_result"
    }
   ],
   "source": [
    "vpu.set_gap(80)"
   ]
  },
  {
   "cell_type": "code",
   "execution_count": 11,
   "metadata": {},
   "outputs": [
    {
     "data": {
      "text/plain": [
       "True"
      ]
     },
     "execution_count": 11,
     "metadata": {},
     "output_type": "execute_result"
    }
   ],
   "source": [
    "vpu.cmd_move_start()"
   ]
  },
  {
   "cell_type": "code",
   "execution_count": 8,
   "metadata": {},
   "outputs": [
    {
     "name": "stdout",
     "output_type": "stream",
     "text": [
      "IMG Proc connected:  True\n",
      "Tune connected:  True\n"
     ]
    }
   ],
   "source": [
    "tune = Tune(Tune.DEVICES.SI)\n",
    "bbb_v = SingleBunch(BunchbyBunch.DEVICES.V)\n",
    "bbb_h = SingleBunch(BunchbyBunch.DEVICES.H)\n",
    "imgproc = DVFImgProc(DVFImgProc.DEVICES.CAX_DVF2)\n",
    "\n",
    "imgproc.wait_for_connection(timeout=timeout)\n",
    "print('IMG Proc connected: ', imgproc.connected)\n",
    "\n",
    "tune.wait_for_connection(timeout=timeout)\n",
    "print('Tune connected: ', tune.connected)\n"
   ]
  },
  {
   "cell_type": "code",
   "execution_count": 9,
   "metadata": {},
   "outputs": [],
   "source": [
    "sofb = SOFB(SOFB.DEVICES.SI)\n",
    "fofb = HLFOFB(HLFOFB.DEVICES.SI)"
   ]
  },
  {
   "attachments": {},
   "cell_type": "markdown",
   "metadata": {},
   "source": [
    "### Make sure SOFB and FOFB loops are opened and clear correctors"
   ]
  },
  {
   "cell_type": "code",
   "execution_count": 10,
   "metadata": {},
   "outputs": [
    {
     "data": {
      "text/plain": [
       "True"
      ]
     },
     "execution_count": 10,
     "metadata": {},
     "output_type": "execute_result"
    }
   ],
   "source": [
    "# Disable injector!!!\n",
    "\n",
    "fofb.cmd_turn_off_loop_state()\n",
    "fofb.cmd_corr_accclear()\n",
    "\n",
    "sofb.cmd_turn_off_autocorr()\n",
    "sofb.cmd_change_opmode_to_sloworb(timeout=timeout)"
   ]
  },
  {
   "cell_type": "markdown",
   "metadata": {},
   "source": [
    "# Meas orbit distortions"
   ]
  },
  {
   "cell_type": "code",
   "execution_count": 13,
   "metadata": {},
   "outputs": [
    {
     "name": "stdout",
     "output_type": "stream",
     "text": [
      "[80.  70.  60.  50.  40.  30.  20.  19.  18.  17.  16.  15.  14.  13.\n",
      " 12.  11.  10.   9.7]\n"
     ]
    }
   ],
   "source": [
    "# gaps0 = np.array([80, 75, 70, 65, 60, 55, 50, 45, 40, 35])\n",
    "# gaps1 = np.linspace(30, 10, 21)\n",
    "# gaps2 = np.array([9.7])\n",
    "gaps0 = np.array([80,  70,  60,  50,  40, 30])\n",
    "gaps1 = np.linspace(20, 10, 11)\n",
    "gaps2 = np.array([9.7])\n",
    "gaps = np.concatenate((gaps0, gaps1, gaps2))\n",
    "gaps\n",
    "print(gaps)"
   ]
  },
  {
   "cell_type": "code",
   "execution_count": 14,
   "metadata": {},
   "outputs": [
    {
     "data": {
      "text/plain": [
       "(4, 1.2559150810924156, 0.31175836900187626)"
      ]
     },
     "execution_count": 14,
     "metadata": {},
     "output_type": "execute_result"
    }
   ],
   "source": [
    "sofb.correct_orbit_manually(nr_iters=5, residue=0.5)"
   ]
  },
  {
   "cell_type": "code",
   "execution_count": 15,
   "metadata": {},
   "outputs": [
    {
     "name": "stdout",
     "output_type": "stream",
     "text": [
      "Gap-RB 80.000 mm\n",
      "Undulator is moving...\n",
      "Gap 80.000 mm reached.\n",
      "Movimentation done!\n",
      "\n",
      "Gap-RB 70.000 mm\n",
      "Undulator is moving...\n",
      "Gap 70.000 mm reached.\n",
      "Movimentation done!\n",
      "\n",
      "Gap-RB 60.000 mm\n",
      "Undulator is moving...\n",
      "Gap 60.000 mm reached.\n",
      "Movimentation done!\n",
      "\n",
      "Gap-RB 50.000 mm\n",
      "Undulator is moving...\n",
      "Gap 50.000 mm reached.\n",
      "Movimentation done!\n",
      "\n",
      "Gap-RB 40.000 mm\n",
      "Undulator is moving...\n",
      "Gap 40.000 mm reached.\n",
      "Movimentation done!\n",
      "\n",
      "Gap-RB 30.000 mm\n",
      "Undulator is moving...\n",
      "Gap 30.000 mm reached.\n",
      "Movimentation done!\n",
      "\n",
      "Gap-RB 20.000 mm\n",
      "Undulator is moving...\n",
      "Gap 20.000 mm reached.\n",
      "Movimentation done!\n",
      "\n",
      "Gap-RB 19.000 mm\n",
      "Undulator is moving...\n",
      "Gap 19.000 mm reached.\n",
      "Movimentation done!\n",
      "\n",
      "Gap-RB 18.000 mm\n",
      "Undulator is moving...\n",
      "Gap 18.000 mm reached.\n",
      "Movimentation done!\n",
      "\n",
      "Gap-RB 17.000 mm\n",
      "Undulator is moving...\n",
      "Gap 17.000 mm reached.\n",
      "Movimentation done!\n",
      "\n",
      "Gap-RB 16.000 mm\n",
      "Undulator is moving...\n",
      "Gap 16.000 mm reached.\n",
      "Movimentation done!\n",
      "\n",
      "Gap-RB 15.000 mm\n",
      "Undulator is moving...\n",
      "Gap 15.000 mm reached.\n",
      "Movimentation done!\n",
      "\n",
      "Gap-RB 14.000 mm\n",
      "Undulator is moving...\n",
      "Gap 14.000 mm reached.\n",
      "Movimentation done!\n",
      "\n",
      "Gap-RB 13.000 mm\n",
      "Undulator is moving...\n",
      "Gap 13.000 mm reached.\n",
      "Movimentation done!\n",
      "\n",
      "Gap-RB 12.000 mm\n",
      "Undulator is moving...\n",
      "Gap 12.000 mm reached.\n",
      "Movimentation done!\n",
      "\n",
      "Gap-RB 11.000 mm\n",
      "Undulator is moving...\n",
      "Gap 11.000 mm reached.\n",
      "Movimentation done!\n",
      "\n",
      "Gap-RB 10.000 mm\n",
      "Undulator is moving...\n",
      "Gap 10.000 mm reached.\n",
      "Movimentation done!\n",
      "\n",
      "Gap-RB 9.700 mm\n",
      "Undulator is moving...\n",
      "Gap 9.700 mm reached.\n",
      "Movimentation done!\n",
      "\n",
      "Done! ETA: 133.102s\n"
     ]
    }
   ],
   "source": [
    "data = dict()\n",
    "data['gap'] = list()\n",
    "data['timestamps'] = list()\n",
    "data['dorbx'] = list()\n",
    "data['dorby'] = list()\n",
    "data['gap_speed'] = list()\n",
    "data['tunes'] = list()\n",
    "data['img_params'] = list()\n",
    "t0 = time.time()\n",
    "\n",
    "sofb.correct_orbit_manually(nr_iters=5, residue=0.5)\n",
    "sofb.cmd_reset()\n",
    "sofb.wait_buffer()\n",
    "orbx0 = sofb.orbx\n",
    "orby0 = sofb.orby\n",
    "for i, gap in enumerate(gaps):\n",
    "    print('gap {:.2f} mm'.format(gap), end='\\r')\n",
    "\n",
    "    # Move gap\n",
    "    sucess = move_vpu_gap_robust(vpu, gap=gap, timeout=timeout, verbose=True)\n",
    "    # Verify if undulator moved\n",
    "    if not sucess:\n",
    "        break\n",
    "\n",
    "    sofb.cmd_reset()\n",
    "    sofb.wait_buffer()\n",
    "    # Wait orbit distortion to become stationary\n",
    "    \n",
    "    # Record orbit and other info\n",
    "    data['gap'].append(gap)\n",
    "    data['timestamps'].append(time.time())\n",
    "    data['dorbx'].append(sofb.orbx - orbx0)\n",
    "    data['dorby'].append(sofb.orby - orby0)\n",
    "    data['gap_speed'].append(vpu.gap_speed)\n",
    "    data['beamline'] = IDSearch.conv_idname_2_beamline(vpu.devname)\n",
    "\n",
    "    # Record CAX img params and tune\n",
    "    # img_params, tunes = get_CAX_and_tune_data(bbb_h, bbb_v, tune, imgproc, nr_acq=5, acq_sleep=0.5)\n",
    "    # data['img_params'].append(img_params)\n",
    "    # data['tunes'].append(tunes)\n",
    "\n",
    "print(f'Done! ETA: {time.time()-t0:.3f}s')\n",
    "save(data, 'orbit_distortions_VPU_{}_iter1.pickle'.format(IDSearch.conv_idname_2_beamline(vpu.devname)))"
   ]
  },
  {
   "cell_type": "markdown",
   "metadata": {},
   "source": [
    "# Meas local correctors matrix response"
   ]
  },
  {
   "cell_type": "code",
   "execution_count": 16,
   "metadata": {},
   "outputs": [
    {
     "name": "stdout",
     "output_type": "stream",
     "text": [
      "Gap-RB 80.000 mm\n",
      "Undulator is moving...\n",
      "Gap 80.000 mm reached.\n",
      "Movimentation done!\n",
      "\n"
     ]
    },
    {
     "data": {
      "text/plain": [
       "True"
      ]
     },
     "execution_count": 16,
     "metadata": {},
     "output_type": "execute_result"
    }
   ],
   "source": [
    "# Open ivu gap\n",
    "move_vpu_gap_robust(vpu, gap=80, timeout=timeout, verbose=True)"
   ]
  },
  {
   "cell_type": "code",
   "execution_count": null,
   "metadata": {},
   "outputs": [],
   "source": [
    "vpu = initialize_vpu(beamline='CARNAUBA')\n",
    "vpu.set_gap_speed(0.3)\n",
    "time.sleep(0.5)\n",
    "print(vpu.gap_speed)"
   ]
  },
  {
   "cell_type": "code",
   "execution_count": 19,
   "metadata": {},
   "outputs": [
    {
     "data": {
      "text/plain": [
       "True"
      ]
     },
     "execution_count": 19,
     "metadata": {},
     "output_type": "execute_result"
    }
   ],
   "source": [
    "idff = IDFF('SI-06SB:BS-IDFF-CC_HARD')\n",
    "\n",
    "# Configure SOFB and FOFB\n",
    "# Disable injector!!!\n",
    "\n",
    "fofb.cmd_turn_off_loop_state()\n",
    "fofb.cmd_corr_accclear()\n",
    "\n",
    "sofb.cmd_turn_off_autocorr()\n",
    "sofb.cmd_change_opmode_to_sloworb(timeout=timeout)"
   ]
  },
  {
   "cell_type": "code",
   "execution_count": 20,
   "metadata": {},
   "outputs": [],
   "source": []
  },
  {
   "cell_type": "code",
   "execution_count": 17,
   "metadata": {},
   "outputs": [
    {
     "data": {
      "text/plain": [
       "array([80. , 70. , 60. , 50. , 40. , 30. , 20. , 19. , 18. , 17. , 16. ,\n",
       "       15. , 14. , 13. , 12. , 11. , 10. ,  9.7])"
      ]
     },
     "execution_count": 17,
     "metadata": {},
     "output_type": "execute_result"
    }
   ],
   "source": [
    "# gaps0 = np.array([80, 75, 70, 65, 60, 55, 50, 45, 40, 35])\n",
    "gaps0 = np.array([80,  70,  60,  50,  40, 30])\n",
    "gaps1 = np.linspace(20, 10, 11)\n",
    "gaps2 = np.array([9.7])\n",
    "gaps = np.concatenate((gaps0, gaps1, gaps2))\n",
    "# idx = np.argmin(np.abs(gaps - 12))\n",
    "# gaps = gaps[idx:]\n",
    "\n",
    "gaps"
   ]
  },
  {
   "attachments": {},
   "cell_type": "markdown",
   "metadata": {},
   "source": [
    "set CC currrents to zero"
   ]
  },
  {
   "cell_type": "code",
   "execution_count": 18,
   "metadata": {},
   "outputs": [
    {
     "name": "stdout",
     "output_type": "stream",
     "text": [
      "Current -0.01 A, corrector:  SI-06SB:PS-CC1-1\n",
      "Current -0.01 A, corrector:  SI-06SB:PS-CC2-1\n",
      "Current -0.00 A, corrector:  SI-06SB:PS-CC2-2\n",
      "Current -0.00 A, corrector:  SI-06SB:PS-CC1-2\n"
     ]
    }
   ],
   "source": [
    "idff = IDFF('SI-06SB:BS-IDFF-CC_HARD')\n",
    "\n",
    "dcurr = 5 # delta current in [A]\n",
    "corrs = list()\n",
    "corrs.extend(idff.ccdevs)\n",
    "\n",
    "data = dict()\n",
    "data['delta_current'] = 2*dcurr\n",
    "for i, corr in enumerate(corrs):\n",
    "    corr.cmd_turn_on(timeout=timeout)\n",
    "    corr.set_current(0, wait_mon=True)\n",
    "    print('Current {:.2f} A, corrector: '.format(corr.current_mon), corr.devname)"
   ]
  },
  {
   "attachments": {},
   "cell_type": "markdown",
   "metadata": {},
   "source": [
    "Test all CC currents to max values"
   ]
  },
  {
   "cell_type": "code",
   "execution_count": 23,
   "metadata": {},
   "outputs": [
    {
     "name": "stdout",
     "output_type": "stream",
     "text": [
      "Current 5.00 A, corrector:  SI-06SB:PS-CC1-1\n",
      "Current 5.00 A, corrector:  SI-06SB:PS-CC2-1\n",
      "Current 5.00 A, corrector:  SI-06SB:PS-CC2-2\n",
      "Current 5.00 A, corrector:  SI-06SB:PS-CC1-2\n"
     ]
    }
   ],
   "source": [
    "data['delta_current'] = 2*dcurr\n",
    "for i, corr in enumerate(corrs):\n",
    "    corr.cmd_turn_on(timeout=timeout)\n",
    "    corr.set_current(dcurr, wait_mon=True)\n",
    "    print('Current {:.2f} A, corrector: '.format(corr.current_mon), corr.devname)"
   ]
  },
  {
   "cell_type": "code",
   "execution_count": 19,
   "metadata": {},
   "outputs": [
    {
     "data": {
      "text/plain": [
       "[<siriuspy.devices.pwrsupply.PowerSupplyFBP at 0x7fc199a34940>,\n",
       " <siriuspy.devices.pwrsupply.PowerSupplyFBP at 0x7fc199a32400>,\n",
       " <siriuspy.devices.pwrsupply.PowerSupplyFBP at 0x7fc1999f1ba8>,\n",
       " <siriuspy.devices.pwrsupply.PowerSupplyFBP at 0x7fc199a19da0>]"
      ]
     },
     "execution_count": 19,
     "metadata": {},
     "output_type": "execute_result"
    }
   ],
   "source": [
    "# print power supply device\n",
    "idff = IDFF('SI-06SB:BS-IDFF-CC_HARD')\n",
    "idff.ccdevs"
   ]
  },
  {
   "cell_type": "code",
   "execution_count": 20,
   "metadata": {},
   "outputs": [],
   "source": [
    "# Disable injector\n",
    "\n",
    "sofb.correct_orbit_manually(nr_iters=5, residue=0.5)\n",
    "sofb.cmd_reset()\n",
    "sofb.wait_buffer()\n",
    "\n",
    "orbx0 = sofb.orbx\n",
    "orby0 = sofb.orby"
   ]
  },
  {
   "cell_type": "code",
   "execution_count": 21,
   "metadata": {},
   "outputs": [
    {
     "name": "stdout",
     "output_type": "stream",
     "text": [
      "Gap-RB 80.000 mm\n",
      "Undulator is moving...\n",
      "Gap 80.000 mm reached.\n",
      "Movimentation done!\n",
      "\n",
      "Measuring corrector:  SI-06SB:PS-CC1-1\n",
      "Measuring corrector:  SI-06SB:PS-CC2-1\n",
      "Measuring corrector:  SI-06SB:PS-CC2-2\n",
      "Measuring corrector:  SI-06SB:PS-CC1-2\n",
      "Gap-RB 70.000 mm\n",
      "Undulator is moving...\n",
      "Gap 70.000 mm reached.\n",
      "Movimentation done!\n",
      "\n",
      "Measuring corrector:  SI-06SB:PS-CC1-1\n",
      "Measuring corrector:  SI-06SB:PS-CC2-1\n",
      "Measuring corrector:  SI-06SB:PS-CC2-2\n",
      "Measuring corrector:  SI-06SB:PS-CC1-2\n",
      "Gap-RB 60.000 mm\n",
      "Undulator is moving...\n",
      "Gap 60.000 mm reached.\n",
      "Movimentation done!\n",
      "\n",
      "Measuring corrector:  SI-06SB:PS-CC1-1\n",
      "Measuring corrector:  SI-06SB:PS-CC2-1\n",
      "Measuring corrector:  SI-06SB:PS-CC2-2\n",
      "Measuring corrector:  SI-06SB:PS-CC1-2\n",
      "Gap-RB 50.000 mm\n",
      "Undulator is moving...\n",
      "Gap 50.000 mm reached.\n",
      "Movimentation done!\n",
      "\n",
      "Measuring corrector:  SI-06SB:PS-CC1-1\n",
      "Measuring corrector:  SI-06SB:PS-CC2-1\n",
      "Measuring corrector:  SI-06SB:PS-CC2-2\n",
      "Measuring corrector:  SI-06SB:PS-CC1-2\n",
      "Gap-RB 40.000 mm\n",
      "Undulator is moving...\n",
      "Gap 40.000 mm reached.\n",
      "Movimentation done!\n",
      "\n",
      "Measuring corrector:  SI-06SB:PS-CC1-1\n",
      "Measuring corrector:  SI-06SB:PS-CC2-1\n",
      "Measuring corrector:  SI-06SB:PS-CC2-2\n",
      "Measuring corrector:  SI-06SB:PS-CC1-2\n",
      "Gap-RB 30.000 mm\n",
      "Undulator is moving...\n",
      "Gap 30.000 mm reached.\n",
      "Movimentation done!\n",
      "\n",
      "Measuring corrector:  SI-06SB:PS-CC1-1\n",
      "Measuring corrector:  SI-06SB:PS-CC2-1\n",
      "Measuring corrector:  SI-06SB:PS-CC2-2\n",
      "Measuring corrector:  SI-06SB:PS-CC1-2\n",
      "Gap-RB 20.000 mm\n",
      "Undulator is moving...\n",
      "Gap 20.000 mm reached.\n",
      "Movimentation done!\n",
      "\n",
      "Measuring corrector:  SI-06SB:PS-CC1-1\n",
      "Measuring corrector:  SI-06SB:PS-CC2-1\n",
      "Measuring corrector:  SI-06SB:PS-CC2-2\n",
      "Measuring corrector:  SI-06SB:PS-CC1-2\n",
      "Gap-RB 19.000 mm\n",
      "Undulator is moving...\n",
      "Gap 19.000 mm reached.\n",
      "Movimentation done!\n",
      "\n",
      "Measuring corrector:  SI-06SB:PS-CC1-1\n",
      "Measuring corrector:  SI-06SB:PS-CC2-1\n",
      "Measuring corrector:  SI-06SB:PS-CC2-2\n",
      "Measuring corrector:  SI-06SB:PS-CC1-2\n",
      "Gap-RB 18.000 mm\n",
      "Undulator is moving...\n",
      "Gap 18.000 mm reached.\n",
      "Movimentation done!\n",
      "\n",
      "Measuring corrector:  SI-06SB:PS-CC1-1\n",
      "Measuring corrector:  SI-06SB:PS-CC2-1\n",
      "Measuring corrector:  SI-06SB:PS-CC2-2\n",
      "Measuring corrector:  SI-06SB:PS-CC1-2\n",
      "Gap-RB 17.000 mm\n",
      "Undulator is moving...\n",
      "Gap 17.000 mm reached.\n",
      "Movimentation done!\n",
      "\n",
      "Measuring corrector:  SI-06SB:PS-CC1-1\n",
      "Measuring corrector:  SI-06SB:PS-CC2-1\n",
      "Measuring corrector:  SI-06SB:PS-CC2-2\n",
      "Measuring corrector:  SI-06SB:PS-CC1-2\n",
      "Gap-RB 16.000 mm\n",
      "Undulator is moving...\n",
      "Gap 16.000 mm reached.\n",
      "Movimentation done!\n",
      "\n",
      "Measuring corrector:  SI-06SB:PS-CC1-1\n",
      "Measuring corrector:  SI-06SB:PS-CC2-1\n",
      "Measuring corrector:  SI-06SB:PS-CC2-2\n",
      "Measuring corrector:  SI-06SB:PS-CC1-2\n",
      "Gap-RB 15.000 mm\n",
      "Undulator is moving...\n",
      "Gap 15.000 mm reached.\n",
      "Movimentation done!\n",
      "\n",
      "Measuring corrector:  SI-06SB:PS-CC1-1\n",
      "Measuring corrector:  SI-06SB:PS-CC2-1\n",
      "Measuring corrector:  SI-06SB:PS-CC2-2\n",
      "Measuring corrector:  SI-06SB:PS-CC1-2\n",
      "Gap-RB 14.000 mm\n",
      "Undulator is moving...\n",
      "Gap 14.000 mm reached.\n",
      "Movimentation done!\n",
      "\n",
      "Measuring corrector:  SI-06SB:PS-CC1-1\n",
      "Measuring corrector:  SI-06SB:PS-CC2-1\n",
      "Measuring corrector:  SI-06SB:PS-CC2-2\n",
      "Measuring corrector:  SI-06SB:PS-CC1-2\n",
      "Gap-RB 13.000 mm\n",
      "Undulator is moving...\n",
      "Gap 13.000 mm reached.\n",
      "Movimentation done!\n",
      "\n",
      "Measuring corrector:  SI-06SB:PS-CC1-1\n",
      "Measuring corrector:  SI-06SB:PS-CC2-1\n",
      "Measuring corrector:  SI-06SB:PS-CC2-2\n",
      "Measuring corrector:  SI-06SB:PS-CC1-2\n",
      "Gap-RB 12.000 mm\n",
      "Undulator is moving...\n",
      "Gap 12.000 mm reached.\n",
      "Movimentation done!\n",
      "\n",
      "Measuring corrector:  SI-06SB:PS-CC1-1\n",
      "Measuring corrector:  SI-06SB:PS-CC2-1\n",
      "Measuring corrector:  SI-06SB:PS-CC2-2\n",
      "Measuring corrector:  SI-06SB:PS-CC1-2\n",
      "Gap-RB 11.000 mm\n",
      "Undulator is moving...\n",
      "Gap 11.000 mm reached.\n",
      "Movimentation done!\n",
      "\n",
      "Measuring corrector:  SI-06SB:PS-CC1-1\n",
      "Measuring corrector:  SI-06SB:PS-CC2-1\n",
      "Measuring corrector:  SI-06SB:PS-CC2-2\n",
      "Measuring corrector:  SI-06SB:PS-CC1-2\n",
      "Gap-RB 10.000 mm\n",
      "Undulator is moving...\n",
      "Gap 10.000 mm reached.\n",
      "Movimentation done!\n",
      "\n",
      "Measuring corrector:  SI-06SB:PS-CC1-1\n",
      "Measuring corrector:  SI-06SB:PS-CC2-1\n",
      "Measuring corrector:  SI-06SB:PS-CC2-2\n",
      "Measuring corrector:  SI-06SB:PS-CC1-2\n",
      "Gap-RB 9.700 mm\n",
      "Undulator is moving...\n",
      "Gap 9.700 mm reached.\n",
      "Movimentation done!\n",
      "\n",
      "Measuring corrector:  SI-06SB:PS-CC1-1\n",
      "Measuring corrector:  SI-06SB:PS-CC2-1\n",
      "Measuring corrector:  SI-06SB:PS-CC2-2\n",
      "Measuring corrector:  SI-06SB:PS-CC1-2\n",
      "Done! ETA: 1644.177s\n"
     ]
    }
   ],
   "source": [
    "t0 = time.time()\n",
    "intlk_flag = False\n",
    "for i, gap in enumerate(gaps):\n",
    "    if intlk_flag:\n",
    "        break\n",
    "    print('gap {:.2f} mm'.format(gap), end='\\r')\n",
    "    \n",
    "    # Create dict for this gap\n",
    "    data['gap {:.2f}'.format(gap)] = dict()\n",
    "    \n",
    "    # Move gap\n",
    "    sucess = move_vpu_gap_robust(vpu, gap=gap, timeout=timeout, verbose=True)\n",
    "    if not sucess:\n",
    "        break\n",
    "    sofb.correct_orbit_manually(nr_iters=5, residue=1)\n",
    "\n",
    "    for i, corr in enumerate(corrs):\n",
    "        intlk_pv = corr.devname + ':IntlkHard-Mon'\n",
    "        reset_pv = corr.devname + ':Reset-Cmd'\n",
    "\n",
    "        nr_temps = 5\n",
    "        j = 0\n",
    "        while epics.caget(intlk_pv) and j < nr_temps:\n",
    "            print('{} is interlocked!'.format(corr.devname), end='\\r')\n",
    "            epics.caput(reset_pv, 1)\n",
    "            time.sleep(1)\n",
    "            j += 1\n",
    "        if epics.caget(intlk_pv):\n",
    "            print('It was not possible to reset {}'.format(corr.devname))\n",
    "            intlk_flag = True\n",
    "            break\n",
    "\n",
    "\n",
    "        data['gap {:.2f}'.format(gap)][corr.devname] = dict()\n",
    "        sofb.correct_orbit_manually(nr_iters=5, residue=1)\n",
    "        sofb.cmd_reset()\n",
    "        sofb.wait_buffer()\n",
    "\n",
    "        orby0 = sofb.orby\n",
    "        orbx0 = sofb.orbx\n",
    "\n",
    "        print('Measuring corrector: ', corr.devname)\n",
    "\n",
    "        corr.set_current(dcurr, wait_mon=True)\n",
    "        sofb.cmd_reset()\n",
    "        sofb.wait_buffer()\n",
    "        \n",
    "        # wait current\n",
    "        # reset sofb and wait\n",
    "        data['gap {:.2f}'.format(gap)][corr.devname]['pos'] = dict()\n",
    "        data['gap {:.2f}'.format(gap)][corr.devname]['pos']['timestamps'] = time.time()\n",
    "        data['gap {:.2f}'.format(gap)][corr.devname]['pos']['dorbx'] = sofb.orbx - orbx0\n",
    "        data['gap {:.2f}'.format(gap)][corr.devname]['pos']['dorby'] = sofb.orby - orby0\n",
    "\n",
    " \n",
    "\n",
    "        corr.set_current(0, wait_mon=True)\n",
    "        sofb.cmd_reset()\n",
    "        sofb.wait_buffer()\n",
    "        data['gap {:.2f}'.format(gap)][corr.devname]['hist'] = dict()\n",
    "        data['gap {:.2f}'.format(gap)][corr.devname]['hist']['dorbx'] = sofb.orbx - orbx0\n",
    "        data['gap {:.2f}'.format(gap)][corr.devname]['hist']['dorby'] = sofb.orby - orby0\n",
    "        data['gap {:.2f}'.format(gap)][corr.devname]['hist']['orbx0'] = orbx0\n",
    "        data['gap {:.2f}'.format(gap)][corr.devname]['hist']['orby0'] = orby0\n",
    "        \n",
    "      \n",
    "\n",
    "        corr.set_current(-dcurr, wait_mon=True)\n",
    "        sofb.cmd_reset()\n",
    "        sofb.wait_buffer()\n",
    "        data['gap {:.2f}'.format(gap)][corr.devname]['neg'] = dict()\n",
    "        data['gap {:.2f}'.format(gap)][corr.devname]['neg']['timestamps'] = time.time()\n",
    "        data['gap {:.2f}'.format(gap)][corr.devname]['neg']['dorbx'] = sofb.orbx - orbx0\n",
    "        data['gap {:.2f}'.format(gap)][corr.devname]['neg']['dorby'] = sofb.orby - orby0\n",
    "\n",
    "\n",
    "        corr.set_current(0)\n",
    "        sofb.cmd_reset()\n",
    "        sofb.wait_buffer()\n",
    "        \n",
    "    save(data, 'orbit_distortions_corrs_VPU_{}_iter1_5A.pickle'.format(IDSearch.conv_idname_2_beamline(vpu.devname)), overwrite=True)\n",
    "\n",
    "print(f'Done! ETA: {time.time()-t0:.3f}s')"
   ]
  },
  {
   "attachments": {},
   "cell_type": "markdown",
   "metadata": {},
   "source": [
    "# Analysis"
   ]
  },
  {
   "cell_type": "code",
   "execution_count": null,
   "metadata": {},
   "outputs": [],
   "source": []
  }
 ],
 "metadata": {
  "kernelspec": {
   "display_name": "Python 3",
   "language": "python",
   "name": "python3"
  },
  "language_info": {
   "codemirror_mode": {
    "name": "ipython",
    "version": 3
   },
   "file_extension": ".py",
   "mimetype": "text/x-python",
   "name": "python",
   "nbconvert_exporter": "python",
   "pygments_lexer": "ipython3",
   "version": "3.6.8"
  },
  "vscode": {
   "interpreter": {
    "hash": "aee8b7b246df8f9039afb4144a1f6fd8d2ca17a180786b69acc140d282b71a49"
   }
  }
 },
 "nbformat": 4,
 "nbformat_minor": 2
}
