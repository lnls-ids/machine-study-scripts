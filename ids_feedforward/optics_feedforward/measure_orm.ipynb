{
 "cells": [
  {
   "cell_type": "code",
   "execution_count": 2,
   "metadata": {},
   "outputs": [
    {
     "name": "stderr",
     "output_type": "stream",
     "text": [
      "Warning: Ignoring XDG_SESSION_TYPE=wayland on Gnome. Use QT_QPA_PLATFORM=wayland to run on Wayland anyway.\n"
     ]
    }
   ],
   "source": [
    "%matplotlib qt5\n",
    "# %matplotlib notebook\n",
    "\n",
    "import time\n",
    "import os\n",
    "from datetime import datetime\n",
    "\n",
    "import numpy as np\n",
    "\n",
    "import matplotlib.pyplot as mplt\n",
    "import matplotlib.gridspec as mgs\n",
    "\n",
    "import pyaccel as pa\n",
    "\n",
    "from siriuspy.search import IDSearch\n",
    "from siriuspy.devices import IVU, SOFB, HLFOFB, IDFF, DVFImgProc, \\\n",
    "    Tune, PowerSupply\n",
    "from apsuite.commisslib.meas_ac_orm import MeasACORM\n",
    "from apsuite.commisslib.meas_bpms_signals import AcqBPMsSignals\n",
    "\n",
    "from mathphys.functions import save, load\n",
    "\n",
    "mplt.rcParams.update({\n",
    "    'font.size': 12,'lines.linewidth': 2,\n",
    "    'axes.grid': True, 'grid.alpha': 0.5,\n",
    "    'grid.linestyle': '--', 'text.usetex': True})"
   ]
  },
  {
   "cell_type": "markdown",
   "metadata": {},
   "source": [
    "# Define functions"
   ]
  },
  {
   "cell_type": "code",
   "execution_count": null,
   "metadata": {},
   "outputs": [],
   "source": [
    "def initialize_ivu(beamline):\n",
    "    # Search ID\n",
    "    devnameivu = IDSearch.conv_beamline_2_idname(beamline=beamline)\n",
    "    ivu = IVU(devname=devnameivu)\n",
    "\n",
    "    # Disable beamline control\n",
    "    ivu.cmd_beamline_ctrl_disable()\n",
    "    print('beamline control: ', ivu.is_beamline_ctrl_enabled)\n",
    "\n",
    "    # Disable center mode and pitch mode\n",
    "    ivu.set_center_mode(False)\n",
    "    ivu.set_pitch_mode(False)\n",
    "    time.sleep(0.5)\n",
    "    print('center mode: ', ivu.center_mode_status)\n",
    "    print('pitch mode: ', ivu.pitch_mode_status)\n",
    "\n",
    "    # Set gap speed\n",
    "    ivu.set_gap_speed(0.1)\n",
    "    time.sleep(0.5)\n",
    "    print('gap speed: {:.3f} mm/s'.format(ivu.gap_speed))\n",
    "\n",
    "    # Set gap to parked condition\n",
    "    ivu.set_gap(ivu.kparameter_parked)\n",
    "    time.sleep(0.5)\n",
    "    print('gap: {:.3f} mm'.format(ivu.gap))\n",
    "\n",
    "    return ivu\n",
    "\n",
    "def move_ivu_gap(ivu:IVU, gap, timeout, verbose=False):\n",
    "    ivu.set_gap(gap)\n",
    "    time.sleep(0.5)\n",
    "    print('Gap-RB {:.3f} mm'.format(ivu.gap)) if verbose else 0\n",
    "    if ivu.cmd_move_gap_start(timeout):\n",
    "        time.sleep(0.5)\n",
    "        print('Undulator is moving...') if verbose else 0\n",
    "        while ivu.is_moving:\n",
    "            time.sleep(0.1)\n",
    "            print('Current gap {:.3f} mm.'.format(ivu.gap_mon), end='\\r') if verbose else 0\n",
    "        print('Gap {:.3f} mm reached.'.format(ivu.gap)) if verbose else 0\n",
    "        return True\n",
    "    else:\n",
    "        print('Error while cmd_move_start.')\n",
    "        return False\n",
    "\n",
    "def move_ivu_gap_robust(ivu:IVU, gap, timeout, maxiter=3, verbose=False):\n",
    "    sucess = move_ivu_gap(ivu, gap=gap, timeout=timeout, verbose=verbose)\n",
    "    i=0\n",
    "    while not sucess and i<maxiter:\n",
    "        i += 1\n",
    "        print('Trying {:0f}/{:.0f}'.format(i, maxiter)) if verbose else 0\n",
    "        ivu.cmd_reset(timeout=timeout)\n",
    "        time.sleep(0.5)\n",
    "        sucess = move_ivu_gap(ivu, gap=gap, timeout=timeout, verbose=verbose)\n",
    "    if sucess:\n",
    "        print('Movimentation done!\\n')\n",
    "        return True\n",
    "    else:\n",
    "        print('Error while moving.\\n')\n",
    "        return False\n",
    "\n",
    "def meas_acorm(meas_orm, sofb, nr_trials=4):\n",
    "    for trial in range(nr_trials):\n",
    "        sofb.correct_orbit_manually(nr_iters=5, residue=2)\n",
    "        meas_orm.start()\n",
    "        if not meas_orm.wait_measurement(timeout=4*60):\n",
    "            print(f'  ACORM timeout (trial={trial:02d}).')\n",
    "            meas_orm.stop()\n",
    "            if not meas_orm.wait_measurement(4*60):\n",
    "                raise Exception('Experiment is not finishing.')\n",
    "        if not meas_orm.check_measurement_finished_ok():\n",
    "            print(f'  ACORM not finished ok (trial={trial:02d}).')\n",
    "            continue\n",
    "        meas_orm.process_data()\n",
    "        if meas_orm.check_measurement_quality():\n",
    "            break\n",
    "        else:\n",
    "            print(f'  ACORM data not ok (trial={trial:02d}).')\n",
    "    else:\n",
    "        raise Exception('Maximum number of trials reached.')"
   ]
  },
  {
   "cell_type": "markdown",
   "metadata": {},
   "source": [
    "# Create objects"
   ]
  },
  {
   "cell_type": "code",
   "execution_count": null,
   "metadata": {},
   "outputs": [],
   "source": [
    "timeout = 3\n",
    "\n",
    "meas_orm = MeasACORM(isonline=True)\n",
    "sofb = SOFB(SOFB.DEVICES.SI)\n",
    "fofb = HLFOFB(HLFOFB.DEVICES.SI)\n",
    "\n",
    "# Make sure SOFB and FOFB are closed\n",
    "sofb.cmd_turn_off_autocorr()\n",
    "sofb.cmd_change_opmode_to_sloworb(timeout=timeout)\n",
    "fofb.cmd_turn_off_loop_state()\n",
    "\n",
    "beamline='EMA'\n",
    "ivu = initialize_ivu(beamline)"
   ]
  },
  {
   "cell_type": "code",
   "execution_count": null,
   "metadata": {},
   "outputs": [],
   "source": [
    "# Move IVU to its maximum gap\n",
    "move_ivu_gap_robust(ivu, gap=24, timeout=timeout, verbose=True)"
   ]
  },
  {
   "cell_type": "markdown",
   "metadata": {},
   "source": [
    "# Configure AC ORM meas"
   ]
  },
  {
   "cell_type": "code",
   "execution_count": null,
   "metadata": {},
   "outputs": [],
   "source": [
    "meas_orm.params.timeout_bpms = 60\n",
    "meas_orm.params.timeout_correctors = 20\n",
    "meas_orm.params.ref_respmat_name = 'ref_respmat'\n",
    "meas_orm.params.meas_bpms_noise = True\n",
    "meas_orm.params.meas_rf_line = True\n",
    "\n",
    "meas_orm.params.corrs_ch2meas = 'all'\n",
    "meas_orm.params.corrs_cv2meas = 'all'\n",
    "meas_orm.params.corrs_nrruns_per_acq = 4\n",
    "meas_orm.params.corrs_excit_time = 4.000\n",
    "meas_orm.params.corrs_delay = 5e-3\n",
    "meas_orm.params.corrs_norm_kicks = True\n",
    "meas_orm.params.corrs_ch_kick = 5.000\n",
    "meas_orm.params.corrs_cv_kick = 5.000\n",
    "meas_orm.params.corrs_dorb1ch = 40.000\n",
    "meas_orm.params.corrs_dorb1cv = 40.000\n",
    "\n",
    "nrsecs = 1\n",
    "primes = meas_orm.params.find_primes(2*8*nrsecs + 2, 3)\n",
    "primes = np.array(sorted(set(primes) - {59, 61}))\n",
    "cv_freqs = primes[:8*nrsecs]\n",
    "primes = np.array(sorted(set(primes) - set(cv_freqs)))\n",
    "ch_freqs = primes[:6*nrsecs]\n",
    "meas_orm.params.corrs_ch_freqs = ch_freqs\n",
    "meas_orm.params.corrs_cv_freqs = cv_freqs\n",
    "\n",
    "meas_orm.params.rf_excit_time = 1.000\n",
    "meas_orm.params.rf_mode = 'Phase'\n",
    "meas_orm.params.rf_step_kick = 5.000\n",
    "meas_orm.params.rf_step_delay = 0.200\n",
    "meas_orm.params.rf_phase_amp = 2.000"
   ]
  },
  {
   "cell_type": "code",
   "execution_count": null,
   "metadata": {},
   "outputs": [],
   "source": [
    "print(meas_orm.params)"
   ]
  },
  {
   "cell_type": "markdown",
   "metadata": {},
   "source": [
    "#### Test ACORM params"
   ]
  },
  {
   "cell_type": "code",
   "execution_count": null,
   "metadata": {},
   "outputs": [],
   "source": [
    "meas_orm.start()"
   ]
  },
  {
   "cell_type": "code",
   "execution_count": null,
   "metadata": {},
   "outputs": [],
   "source": [
    "meas_orm.ismeasuring"
   ]
  },
  {
   "cell_type": "code",
   "execution_count": null,
   "metadata": {},
   "outputs": [],
   "source": [
    "meas_orm.stop()"
   ]
  },
  {
   "cell_type": "code",
   "execution_count": null,
   "metadata": {},
   "outputs": [],
   "source": [
    "meas_orm.check_measurement_finished_ok()"
   ]
  },
  {
   "cell_type": "code",
   "execution_count": null,
   "metadata": {},
   "outputs": [],
   "source": [
    "meas_orm.process_data()"
   ]
  },
  {
   "cell_type": "code",
   "execution_count": null,
   "metadata": {},
   "outputs": [],
   "source": [
    "meas_orm.check_measurement_quality()"
   ]
  },
  {
   "cell_type": "code",
   "execution_count": null,
   "metadata": {},
   "outputs": [],
   "source": [
    "mat_ac = meas_orm.build_respmat()"
   ]
  },
  {
   "cell_type": "code",
   "execution_count": null,
   "metadata": {},
   "outputs": [],
   "source": [
    "mat_dc = meas_orm.get_ref_respmat()"
   ]
  },
  {
   "cell_type": "code",
   "execution_count": null,
   "metadata": {},
   "outputs": [],
   "source": [
    "# Scale Factors\n",
    "fig, ax = meas_orm.plot_scale_conversion_factors()"
   ]
  },
  {
   "cell_type": "code",
   "execution_count": null,
   "metadata": {},
   "outputs": [],
   "source": [
    "# Correlation residues\n",
    "fig, axs, corr = meas_orm.plot_comparison_correlations(mat_ac=mat_ac, mat_dc=mat_dc)\n",
    "corr_h = corr[:, :120]\n",
    "corr_v = corr[:, 120:280]\n",
    "corr_rf = corr[:, -1]\n",
    "\n",
    "idcsh = corr_h[1].argsort()\n",
    "idcsv = corr_v[0].argsort() + 120"
   ]
  },
  {
   "cell_type": "code",
   "execution_count": null,
   "metadata": {},
   "outputs": [],
   "source": [
    "fig, axs = meas_orm.plot_comparison_single_corrector(idcsh[-1], mat_ac=mat_ac, mat_dc=mat_dc)\n",
    "fig, axs = meas_orm.plot_comparison_single_corrector(idcsv[-1], mat_ac=mat_ac, mat_dc=mat_dc)"
   ]
  },
  {
   "cell_type": "code",
   "execution_count": null,
   "metadata": {},
   "outputs": [],
   "source": [
    "# Analyse Fitting\n",
    "fig, axs, *orbs = meas_orm.plot_orbit_residue_after_fitting(bpm_idx=0, excit_idx=0, time_domain=True)"
   ]
  },
  {
   "cell_type": "code",
   "execution_count": null,
   "metadata": {},
   "outputs": [],
   "source": [
    "fig, axs, *orbs = meas_orm.plot_orbit_residue_after_fitting(bpm_idx=0, excit_idx=0, time_domain=False)"
   ]
  },
  {
   "cell_type": "markdown",
   "metadata": {},
   "source": [
    "# Measure ACORM for different gaps"
   ]
  },
  {
   "cell_type": "code",
   "execution_count": 6,
   "metadata": {},
   "outputs": [],
   "source": [
    "gaps = np.arange(24, 4, -1)"
   ]
  },
  {
   "cell_type": "code",
   "execution_count": null,
   "metadata": {},
   "outputs": [],
   "source": [
    "for i, gap in enumerate(gaps):\n",
    "\n",
    "    # Move gap\n",
    "    sucess = move_ivu_gap_robust(ivu, gap=gap, timeout=timeout, verbose=True)\n",
    "    \n",
    "    # Verify if undulator moved\n",
    "    if not sucess:\n",
    "        break\n",
    "    \n",
    "    kpar_stg = f'{gap:.3f}'.replace('.', 'p')\n",
    "    name = f'IVU_{beamline:s}_'\n",
    "    name += f'ACORM_kparam_{kpar_stg:s}'\n",
    "\n",
    "    meas_acorm(meas_orm, sofb, nr_trials=4)\n",
    "    meas_orm.save_loco_input_data(name)"
   ]
  }
 ],
 "metadata": {
  "kernelspec": {
   "display_name": "sirius",
   "language": "python",
   "name": "python3"
  },
  "language_info": {
   "codemirror_mode": {
    "name": "ipython",
    "version": 3
   },
   "file_extension": ".py",
   "mimetype": "text/x-python",
   "name": "python",
   "nbconvert_exporter": "python",
   "pygments_lexer": "ipython3",
   "version": "3.9.2"
  }
 },
 "nbformat": 4,
 "nbformat_minor": 2
}
