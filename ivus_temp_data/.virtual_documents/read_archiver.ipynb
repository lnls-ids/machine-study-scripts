import numpy as np
import matplotlib.pyplot as plt

from siriuspy.search import PSSearch
from siriuspy.clientarch import Time, PVDataSet
import pymodels, pyaccel
from datetime import datetime


kparam_pv = ['SI-10SB:ID-DELTA52:KParam-Mon']
pparam_pv = ['SI-10SB:ID-DELTA52:PParam-Mon']
beam_width_pv = ['CAX:B:BASLER01:ImgROIXFitSigma-Mon']
beam_height_pv = ['CAX:B:BASLER01:ImgROIYFitSigma-Mon']
beam_angle_pv = ['CAX:B:BASLER01:ImgFitAngle-Mon']
beam_xpos_pv = ['CAX:B:BASLER01:ImgROIXFitMean-Mon']
beam_ypos_pv = ['CAX:B:BASLER01:ImgROIYFitMean-Mon']
tunex_pv = ['SI-Glob:DI-Tune-H:TuneFrac-Mon']
tuney_pv = ['SI-Glob:DI-Tune-V:TuneFrac-Mon']
lifet_pv = ['SI-Glob:AP-CurrInfo:Lifetime-Mon']
inj_eff_pv = ['SI-Glob:AP-CurrInfo:InjEff-Mon']


pvnames = kparam_pv + pparam_pv + beam_width_pv + beam_height_pv + beam_angle_pv + beam_xpos_pv + beam_ypos_pv + tunex_pv + tuney_pv + lifet_pv + inj_eff_pv


def get_pvdata(pvnames, timeout, init_h=11, end_h=15, init_m=0, end_m=0):
    pvs_data = PVDataSet(pvnames)
    pvs_data.timeout = timeout
    pvs_data.time_start = Time(2023, 11, 16, init_h, init_m, 0)
    pvs_data.time_stop = Time(2023, 11, 16, end_h, end_m, 0)
    pvs_data.update(mean_sec=5)
    t0 = pvs_data[pvnames[0]].timestamp[0]
    return pvs_data, t0, pvs_data[pvnames[0]].timestamp


def plot_raw_data(pvnames, pvs_data, t0):
    for pvname in pvnames:
        pvd = pvs_data[pvname]
        data = pvd.value
        timestamp = pvd.timestamp - t0
        diff = data - data[0]
        plt.plot(timestamp, diff)
    plt.xlabel('time [s]')
    plt.show()
