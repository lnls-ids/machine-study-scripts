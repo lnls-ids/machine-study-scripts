{
 "cells": [
  {
   "cell_type": "code",
   "execution_count": 2,
   "metadata": {},
   "outputs": [],
   "source": [
    "import time\n",
    "import os\n",
    "from datetime import datetime\n",
    "\n",
    "import numpy as np\n",
    "import matplotlib.pyplot as plt\n",
    "\n",
    "from siriuspy.search import IDSearch\n",
    "from siriuspy.devices import IVU, SOFB, HLFOFB, IDFF, Tune, DVFImgProc\n",
    "\n",
    "import epics\n",
    "from mathphys.functions import save, load\n",
    "\n",
    "timeout = 3"
   ]
  },
  {
   "cell_type": "markdown",
   "metadata": {},
   "source": [
    "# Functions definition"
   ]
  },
  {
   "cell_type": "code",
   "execution_count": 2,
   "metadata": {},
   "outputs": [],
   "source": [
    "def initialize_ivu(beamline):\n",
    "    # Search ID\n",
    "    devnameivu = IDSearch.conv_beamline_2_idname(beamline=beamline)\n",
    "    ivu = IVU(devname=devnameivu)\n",
    "\n",
    "    # Disable beamline control\n",
    "    ivu.cmd_beamline_ctrl_disable()\n",
    "    print('beamline control: ', ivu.is_beamline_ctrl_enabled)\n",
    "\n",
    "    # Disable center mode and pitch mode\n",
    "    ivu.set_center_mode(False)\n",
    "    ivu.set_pitch_mode(False)\n",
    "    time.sleep(0.5)\n",
    "    print('center mode: ', ivu.center_mode_status)\n",
    "    print('pitch mode: ', ivu.pitch_mode_status)\n",
    "\n",
    "    # Set gap speed\n",
    "    ivu.set_gap_speed(0.1)\n",
    "    time.sleep(0.5)\n",
    "    print('gap speed: {:.3f} mm/s'.format(ivu.gap_speed))\n",
    "\n",
    "    # Set gap to parked condition\n",
    "    ivu.set_gap(ivu.kparameter_parked)\n",
    "    time.sleep(0.5)\n",
    "    print('gap: {:.3f} mm'.format(ivu.gap))\n",
    "\n",
    "    return ivu\n",
    "\n",
    "def move_ivu_gap(ivu:IVU, gap, timeout, verbose=False):\n",
    "    ivu.set_gap(gap)\n",
    "    time.sleep(0.5)\n",
    "    print('Gap-RB {:.3f} mm'.format(ivu.gap)) if verbose else 0\n",
    "    if ivu.cmd_move_gap_start(timeout):\n",
    "        time.sleep(0.5)\n",
    "        print('Undulator is moving...') if verbose else 0\n",
    "        while ivu.is_moving:\n",
    "            time.sleep(0.1)\n",
    "            print('Current gap {:.3f} mm.'.format(ivu.gap_mon), end='\\r') if verbose else 0\n",
    "        print('Gap {:.3f} mm reached.'.format(ivu.gap)) if verbose else 0\n",
    "        return True\n",
    "    else:\n",
    "        print('Error while cmd_move_start.')\n",
    "        return False\n",
    "\n",
    "def move_ivu_gap_robust(ivu:IVU, gap, timeout, maxiter=3, verbose=False):\n",
    "    sucess = move_ivu_gap(ivu, gap=gap, timeout=timeout, verbose=verbose)\n",
    "    i=0\n",
    "    while not sucess and i<maxiter:\n",
    "        i += 1\n",
    "        print('Trying {:0f}/{:.0f}'.format(i, maxiter)) if verbose else 0\n",
    "        ivu.cmd_reset(timeout=timeout)\n",
    "        time.sleep(0.5)\n",
    "        sucess = move_ivu_gap(ivu, gap=gap, timeout=timeout, verbose=verbose)\n",
    "    if sucess:\n",
    "        print('Movimentation done!\\n')\n",
    "        return True\n",
    "    else:\n",
    "        print('Error while moving.\\n')\n",
    "        return False\n",
    "\n",
    "def get_CAX_data(tune, imgproc, nr_acq=10, acq_sleep=0.5):\n",
    "        \"\"\"Get data.\n",
    "\n",
    "        Returns:\n",
    "            data: Numpy 1d array\n",
    "        \"\"\"\n",
    "        sigmax = np.zeros(nr_acq)\n",
    "        sigmay = np.zeros(nr_acq)\n",
    "        sigma1 = np.zeros(nr_acq)\n",
    "        sigma2 = np.zeros(nr_acq)\n",
    "        angle = np.zeros(nr_acq)\n",
    "        tunex = np.zeros(nr_acq)\n",
    "        tuney = np.zeros(nr_acq)\n",
    "        images = np.zeros((nr_acq, imgproc.image_sizey, imgproc.image_sizex))\n",
    "        for i in range(nr_acq):\n",
    "            sigmax[i] = imgproc.roix_fit_sigma\n",
    "            sigmay[i] = imgproc.roiy_fit_sigma\n",
    "            sigma1[i] = imgproc.fit_sigma1\n",
    "            sigma2[i] = imgproc.fit_sigma2\n",
    "            angle[i] = imgproc.fit_angle\n",
    "            tunex[i] = tune.tunex\n",
    "            tuney[i] = tune.tuney\n",
    "            images[i] = imgproc.image\n",
    "            time.sleep(acq_sleep)\n",
    "\n",
    "        img_params = np.zeros((7, nr_acq))\n",
    "        img_params[0, :] = sigmax\n",
    "        img_params[1, :] = sigmay\n",
    "        img_params[2, :] = sigma1\n",
    "        img_params[3, :] = sigma2\n",
    "        img_params[4, :] = angle\n",
    "        img_params[5, :] = tunex\n",
    "        img_params[6, :] = tuney\n",
    "        return img_params, images\n"
   ]
  },
  {
   "cell_type": "markdown",
   "metadata": {},
   "source": [
    "## Search devnames"
   ]
  },
  {
   "cell_type": "code",
   "execution_count": 4,
   "metadata": {},
   "outputs": [],
   "source": [
    "devnameivu_ema = IDSearch.conv_beamline_2_idname(beamline='EMA')\n",
    "devnameivu_paineira = IDSearch.conv_beamline_2_idname(beamline='PAINEIRA')"
   ]
  },
  {
   "cell_type": "markdown",
   "metadata": {},
   "source": [
    "## Initialize devices"
   ]
  },
  {
   "cell_type": "code",
   "execution_count": null,
   "metadata": {},
   "outputs": [],
   "source": [
    "ivu = initialize_ivu(beamline='EMA')\n",
    "ivu.set_gap_speed(0.5)\n",
    "time.sleep(0.5)\n",
    "print(ivu.gap_speed)"
   ]
  },
  {
   "cell_type": "code",
   "execution_count": null,
   "metadata": {},
   "outputs": [],
   "source": [
    "tune = Tune(Tune.DEVICES.SI)\n",
    "imgproc = DVFImgProc(DVFImgProc.DEVICES.CAX_DVF2)\n",
    "\n",
    "imgproc.wait_for_connection(timeout=timeout)\n",
    "print('IMG Proc connected: ', imgproc.connected)\n",
    "\n",
    "tune.wait_for_connection(timeout=timeout)\n",
    "print('Tune connected: ', tune.connected)\n"
   ]
  },
  {
   "cell_type": "code",
   "execution_count": null,
   "metadata": {},
   "outputs": [],
   "source": [
    "sofb = SOFB(SOFB.DEVICES.SI)\n",
    "fofb = HLFOFB(HLFOFB.DEVICES.SI)"
   ]
  },
  {
   "cell_type": "markdown",
   "metadata": {},
   "source": [
    "### Make sure SOFB and FOFB loops are opened"
   ]
  },
  {
   "cell_type": "code",
   "execution_count": null,
   "metadata": {},
   "outputs": [],
   "source": [
    "sofb.cmd_turn_off_autocorr()\n",
    "sofb.cmd_change_opmode_to_sloworb(timeout=timeout)\n",
    "fofb.cmd_turn_off_loop_state()"
   ]
  },
  {
   "cell_type": "markdown",
   "metadata": {},
   "source": [
    "# Meas orbit distortions"
   ]
  },
  {
   "cell_type": "code",
   "execution_count": null,
   "metadata": {},
   "outputs": [],
   "source": [
    "gaps = np.arange(24, 3, -1)\n",
    "print(gaps)"
   ]
  },
  {
   "cell_type": "code",
   "execution_count": null,
   "metadata": {},
   "outputs": [],
   "source": [
    "data = dict()\n",
    "data['gap'] = list()\n",
    "data['timestamps'] = list()\n",
    "data['orbx'] = list()\n",
    "data['orby'] = list()\n",
    "data['gap_speed'] = list()\n",
    "data['sigmax'] = list()\n",
    "data['sigmay'] = list()\n",
    "data['sigma1'] = list()\n",
    "data['sigma2'] = list()\n",
    "data['angle'] = list()\n",
    "data['tunex'] = list()\n",
    "data['tuney'] = list()\n",
    "data['CAX_images'] = list()\n",
    "t0 = time.time()\n",
    "for i, gap in enumerate(gaps):\n",
    "\n",
    "    # Move gap\n",
    "    sucess = move_ivu_gap_robust(ivu, gap=gap, timeout=timeout, verbose=True)\n",
    "    \n",
    "    # Verify if undulator moved\n",
    "    if not sucess:\n",
    "        break\n",
    "\n",
    "    # Wait orbit distortion to become stationary\n",
    "    time.sleep(3)\n",
    "    \n",
    "    # Record orbit and other info\n",
    "    data['gap'].append(gap)\n",
    "    data['timestamps'].append(time.time())\n",
    "    data['orbx'].append(sofb.orbx)\n",
    "    data['orby'].append(sofb.orby)\n",
    "    data['gap_speed'].append(ivu.gap_speed)\n",
    "    data['beamline'] = IDSearch.conv_idname_2_beamline(ivu.devname)\n",
    "\n",
    "    # Record CAX img params and tune\n",
    "    caxdata, images = get_CAX_data(tune, imgproc, nr_acq=10, acq_sleep=0.5)\n",
    "    data['sigmax'].append(caxdata[0, :])\n",
    "    data['sigmay'].append(caxdata[1, :])\n",
    "    data['sigma1'].append(caxdata[2, :])\n",
    "    data['sigma2'].append(caxdata[3, :])\n",
    "    data['angle'].append(caxdata[4, :])\n",
    "    data['tunex'].append(caxdata[5, :])\n",
    "    data['tuney'].append(caxdata[6, :])\n",
    "    data['CAX_images'].append(images)\n",
    "\n",
    "print(f'Done! ETA: {time.time()-t0:.3f}s')\n",
    "save(data, 'orbit_distortions_CAX_IVU_{}_iter0.pickle'.format(IDSearch.conv_idname_2_beamline(ivu.devname)))"
   ]
  },
  {
   "cell_type": "markdown",
   "metadata": {},
   "source": [
    "# Meas local correctors matrix response"
   ]
  },
  {
   "cell_type": "code",
   "execution_count": null,
   "metadata": {},
   "outputs": [],
   "source": [
    "# Open ivu gap\n",
    "move_ivu_gap_robust(ivu, gap=24, timeout=timeout, verbose=True)"
   ]
  },
  {
   "cell_type": "code",
   "execution_count": null,
   "metadata": {},
   "outputs": [],
   "source": [
    "idff = IDFF(ivu.devname)\n",
    "\n",
    "# Configure SOFB and FOFB\n",
    "sofb.cmd_turn_off_autocorr()\n",
    "sofb.cmd_change_opmode_to_sloworb(timeout=timeout)\n",
    "fofb.cmd_turn_off_loop_state()\n",
    "\n",
    "sofb.correct_orbit_manually(nr_iters=5, residue=2)\n",
    "time.sleep(2)\n",
    "\n"
   ]
  },
  {
   "cell_type": "code",
   "execution_count": null,
   "metadata": {},
   "outputs": [],
   "source": [
    "ivu = IVU(devnameivu_ema)\n",
    "idff = IDFF(ivu.devname)\n",
    "\n",
    "dcurr = 0.1\n",
    "corrs = list()\n",
    "corrs.extend(idff.chdevs)\n",
    "corrs.extend(idff.cvdevs)\n",
    "\n",
    "data = dict()\n",
    "data['delta_current'] = 2*dcurr\n",
    "for i, corr in enumerate(corrs):\n",
    "    data[corr.devname] = dict()\n",
    "    corr.cmd_turn_on(timeout=timeout)\n",
    "    corr.current = 0\n",
    "    time.sleep(1)\n",
    "    print('Current {:.2f} A, corrector: '.format(corr.current_mon), corr.devname)\n",
    "\n",
    "t0 = time.time()\n",
    "for i, corr in enumerate(corrs):\n",
    "    sofb.correct_orbit_manually(nr_iters=5, residue=2)\n",
    "    time.sleep(3)\n",
    "    orbx0 = sofb.orbx\n",
    "    orby0 = sofb.orby\n",
    "\n",
    "    print('Measuring corrector: ', corr.devname)\n",
    "    \n",
    "    corr.current = dcurr\n",
    "    time.sleep(3)\n",
    "    data[corr.devname]['pos'] = dict()\n",
    "    data[corr.devname]['pos']['timestamps'] = time.time()\n",
    "    data[corr.devname]['pos']['dorbx'] = sofb.orbx - orbx0\n",
    "    data[corr.devname]['pos']['dorby'] = sofb.orby - orby0\n",
    "\n",
    "    corr.current = -dcurr\n",
    "    time.sleep(3)\n",
    "    data[corr.devname]['neg'] = dict()\n",
    "    data[corr.devname]['neg']['timestamps'] = time.time()\n",
    "    data[corr.devname]['neg']['dorbx'] = sofb.orbx - orbx0\n",
    "    data[corr.devname]['neg']['dorby'] = sofb.orby - orby0\n",
    "\n",
    "    corr.current = 0\n",
    "    \n",
    "\n",
    "print(f'Done! ETA: {time.time()-t0:.3f}s')\n",
    "save(data, 'orbit_distortions_corrs_IVU_{}_iter0.pickle'.format(IDSearch.conv_idname_2_beamline(ivu.devname)))\n"
   ]
  }
 ],
 "metadata": {
  "kernelspec": {
   "display_name": "Python 3",
   "language": "python",
   "name": "python3"
  },
  "language_info": {
   "codemirror_mode": {
    "name": "ipython",
    "version": 3
   },
   "file_extension": ".py",
   "mimetype": "text/x-python",
   "name": "python",
   "nbconvert_exporter": "python",
   "pygments_lexer": "ipython3",
   "version": "3.9.2"
  },
  "vscode": {
   "interpreter": {
    "hash": "aee8b7b246df8f9039afb4144a1f6fd8d2ca17a180786b69acc140d282b71a49"
   }
  }
 },
 "nbformat": 4,
 "nbformat_minor": 2
}
