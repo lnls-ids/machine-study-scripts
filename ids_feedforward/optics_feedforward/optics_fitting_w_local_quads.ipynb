{
 "cells": [
  {
   "cell_type": "code",
   "execution_count": null,
   "metadata": {},
   "outputs": [],
   "source": [
    "%matplotlib qt5\n",
    "\n",
    "import os\n",
    "from copy import deepcopy\n",
    "\n",
    "import numpy as np\n",
    "import matplotlib.pyplot as mplt\n",
    "\n",
    "from pymodels import si\n",
    "import pyaccel as pa\n",
    "from mathphys.functions import load, save\n",
    "from apsuite.loco import LOCOAnalysis\n",
    "from apsuite.orbcorr import OrbRespmat\n",
    "\n",
    "from siriuspy.clientconfigdb import ConfigDBClient\n",
    "\n",
    "mplt.rcParams.update({\n",
    "    'font.size': 18, 'axes.grid': True, 'grid.alpha': 0.5, 'grid.linestyle': '--',\n",
    "    'grid.linewidth': 1, 'lines.linewidth': 2,\n",
    "})"
   ]
  },
  {
   "cell_type": "markdown",
   "metadata": {},
   "source": [
    "# Define functions"
   ]
  },
  {
   "cell_type": "code",
   "execution_count": null,
   "metadata": {},
   "outputs": [],
   "source": [
    "def get_idcs(fam_name, mod, idc_id):\n",
    "    idc = np.array(pa.lattice.find_indices(mod, 'fam_name', fam_name))\n",
    "    idx = np.argsort(np.abs(idc_id-idc))[:2]\n",
    "    return idc[idx]\n",
    "\n",
    "\n",
    "def calc_optics_respm(mod, beamline='EMA'):\n",
    "    ivu_idcs = pa.lattice.find_indices(mod, 'fam_name', 'IVU18')\n",
    "    if beamline == 'EMA':\n",
    "        idc_id = ivu_idcs[0]\n",
    "    elif beamline == 'PAINEIRA':\n",
    "        idc_id = ivu_idcs[2]\n",
    "\n",
    "    idc_qn = []\n",
    "    idc_qn.append(get_idcs('QFB', mod, idc_id))\n",
    "    idc_qn.append(get_idcs('QDB1', mod, idc_id))\n",
    "    idc_qn.append(get_idcs('QDB2', mod, idc_id))\n",
    "    idc_qn = np.array(idc_qn)\n",
    "    knob_names = ['QFB', 'QDB1', 'QDB2']\n",
    "\n",
    "    respm = OrbRespmat(mod, 'SI', dim='6d', corr_system='SOFB')\n",
    "    mat0 = respm.get_respm()\n",
    "\n",
    "    opt_resp = []\n",
    "    dkl = 0.001\n",
    "    for idcs in idc_qn:\n",
    "        kl0 = np.array(pa.lattice.get_attribute(respm.model, 'KL', idcs))\n",
    "        pa.lattice.set_attribute(respm.model, 'KL', idcs, kl0 + dkl)\n",
    "\n",
    "        dmat = respm.get_respm() - mat0\n",
    "        dmat[:, -1] *= 1e6  # convert from m/hz to um/Hz\n",
    "        dmat /= dkl\n",
    "        opt_resp.append(dmat.ravel())\n",
    "        pa.lattice.set_attribute(respm.model, 'KL', idcs, kl0)\n",
    "\n",
    "    return np.array(opt_resp), idc_qn, knob_names\n",
    "\n",
    "\n",
    "def get_all_loco_fitting_folders(folder, prefix=''):\n",
    "    folder += '' if folder.endswith('/') else '/'\n",
    "    return sorted([\n",
    "        folder + f for f in os.listdir(prefix + folder) if '.' not in f and 'IVU_EMA_ACORM' in f])\n"
   ]
  },
  {
   "cell_type": "markdown",
   "metadata": {},
   "source": [
    "# Load data"
   ]
  },
  {
   "cell_type": "code",
   "execution_count": null,
   "metadata": {},
   "outputs": [],
   "source": [
    "prefix = './'\n",
    "allfols = []\n",
    "allfols += get_all_loco_fitting_folders('loco_input', prefix=prefix)\n",
    "\n",
    "kparams = np.array([float(fname.split('/')[-1].split('_')[-1].replace('p', '.')) for fname in allfols])\n",
    "runs = np.array([fname.split('/')[0] for fname in allfols])"
   ]
  },
  {
   "cell_type": "code",
   "execution_count": null,
   "metadata": {},
   "outputs": [],
   "source": [
    "allfols"
   ]
  },
  {
   "cell_type": "code",
   "execution_count": null,
   "metadata": {},
   "outputs": [],
   "source": [
    "# Construct loco analysis\n",
    "alllocoanls = []\n",
    "for fol in allfols:\n",
    "    parent, fol = os.path.split(fol)\n",
    "    anl = LOCOAnalysis(\n",
    "        fname_setup=prefix + f'{parent}/loco_input_{fol}.pickle',\n",
    "        fname_fit=prefix + f'{parent}/{fol}/fitting_{fol}.pickle',\n",
    "    )\n",
    "    anl.get_setup()\n",
    "    alllocoanls.append(anl)"
   ]
  },
  {
   "cell_type": "markdown",
   "metadata": {},
   "source": [
    "# Check coupling"
   ]
  },
  {
   "cell_type": "code",
   "execution_count": null,
   "metadata": {},
   "outputs": [],
   "source": [
    "# Get emittances and coupling from loco analysis\n",
    "\n",
    "alldf_emits = []\n",
    "for fol, anl in zip(allfols, alllocoanls):\n",
    "    print(fol)\n",
    "    anl.get_loco_results()\n",
    "    alldf_emits.append(anl.emittance_and_coupling())\n",
    "\n",
    "emit = np.array([e['LOCO model'][1] for e in alldf_emits])\n",
    "tune = np.array([e['LOCO model'][3] for e in alldf_emits])"
   ]
  },
  {
   "cell_type": "markdown",
   "metadata": {},
   "source": [
    "# Get CAX beam parameters variations"
   ]
  },
  {
   "cell_type": "code",
   "execution_count": null,
   "metadata": {},
   "outputs": [],
   "source": [
    "# Get equilibrium parameters from fitted model\n",
    "alleqparams = []\n",
    "for fol, anl in zip(allfols, alllocoanls):\n",
    "    print(fol)\n",
    "    anl.get_loco_results()\n",
    "    alleqparams.append(pa.optics.EqParamsFromBeamEnvelope(\n",
    "            anl.loco_fit['fit_model']))\n"
   ]
  },
  {
   "cell_type": "code",
   "execution_count": null,
   "metadata": {},
   "outputs": [],
   "source": [
    "nom_mod = si.create_accelerator()\n",
    "idc = pa.lattice.find_indices(nom_mod, 'fam_name', 'B1_SRC')[0]\n",
    "sigy = np.array([e.sigma_rx[idc] for e in alleqparams])\n",
    "tilt = np.array([e.tilt_xyplane[idc] for e in alleqparams])\n"
   ]
  },
  {
   "cell_type": "markdown",
   "metadata": {},
   "source": [
    "# Check LOCO tunes"
   ]
  },
  {
   "cell_type": "code",
   "execution_count": null,
   "metadata": {},
   "outputs": [],
   "source": [
    "alltwiss = []\n",
    "for fol, anl in zip(allfols, alllocoanls):\n",
    "    print(fol)\n",
    "    anl.get_loco_results()\n",
    "    model = anl.loco_fit['fit_model']\n",
    "    twiss, *_ = pa.optics.calc_twiss(model, indices='open')\n",
    "    alltwiss.append(twiss)"
   ]
  },
  {
   "cell_type": "code",
   "execution_count": null,
   "metadata": {},
   "outputs": [],
   "source": [
    "ref_idx = allfols.index('loco_input/IVU_EMA_ACORM_kparam_24p000')\n",
    "ref_twiss = alltwiss[ref_idx]\n",
    "tunex0 = ref_twiss.mux[-1]/(2*np.pi)\n",
    "tuney0 = ref_twiss.muy[-1]/(2*np.pi)\n",
    "alltunex = []\n",
    "alltuney = []\n",
    "for twiss in alltwiss:\n",
    "    alltunex.append(twiss.mux[-1]/(2*np.pi) - tunex0)\n",
    "    alltuney.append(twiss.muy[-1]/(2*np.pi) - tuney0)\n",
    "alltunex = np.array(alltunex)\n",
    "alltuney = np.array(alltuney)"
   ]
  },
  {
   "cell_type": "markdown",
   "metadata": {},
   "source": [
    "# Correct optics with local quadrupoles"
   ]
  },
  {
   "cell_type": "code",
   "execution_count": null,
   "metadata": {},
   "outputs": [],
   "source": [
    "allorms = []\n",
    "allquad_stren = []\n",
    "\n",
    "print('Getting nominal model...')\n",
    "ref_idx = allfols.index('loco_input_run/IVU_EMA_ACORM_kparam_24p000')\n",
    "anl_ref = alllocoanls[ref_idx]\n",
    "refmat = anl_ref.loco_setup['respmat']\n",
    "nom_mod, *_ = anl_ref.get_nominal_model()\n",
    "print('Done.')\n",
    "print('Calculating optics response matrix...')\n",
    "opt_resp, idc_qn, knob_names = calc_optics_respm(nom_mod)\n",
    "print('Done.')"
   ]
  },
  {
   "cell_type": "code",
   "execution_count": null,
   "metadata": {},
   "outputs": [],
   "source": [
    "u, s, vt = np.linalg.svd(opt_resp.T, full_matrices=False)\n",
    "s =1/s\n",
    "imat = np.dot(vt.T*s, u.T)\n",
    "\n",
    "mplt.plot(vt[0, :], '-o')\n",
    "mplt.plot(vt[1, :], '-o')\n",
    "mplt.plot(vt[2, :], '-o')\n",
    "mplt.plot(vt[3, :], '-o')"
   ]
  },
  {
   "cell_type": "code",
   "execution_count": null,
   "metadata": {},
   "outputs": [],
   "source": [
    "for fol, anl in zip(allfols, alllocoanls):\n",
    "    orm = anl.loco_setup['respmat']\n",
    "    allorms.append(orm)\n",
    "    orm = orm - refmat\n",
    "\n",
    "    # quads = 1*np.dot(imat, orm.ravel())\n",
    "    quads, *_ = np.linalg.lstsq(opt_resp.T, orm.ravel(), rcond=None)\n",
    "    allquad_stren.append(quads)\n",
    "\n",
    "allquad_stren = np.array(allquad_stren)\n",
    "allorms = np.array(allorms)"
   ]
  }
 ],
 "metadata": {
  "kernelspec": {
   "display_name": "sirius",
   "language": "python",
   "name": "python3"
  },
  "language_info": {
   "name": "python",
   "version": "3.9.2"
  }
 },
 "nbformat": 4,
 "nbformat_minor": 2
}
