{
 "cells": [
  {
   "cell_type": "code",
   "execution_count": null,
   "metadata": {},
   "outputs": [],
   "source": [
    "import numpy as np\n",
    "from mathphys.functions import load\n",
    "import pyaccel\n",
    "from pymodels import si\n",
    "import matplotlib.pyplot as plt\n",
    "import os\n",
    "from apsuite.loco import LOCOAnalysis\n",
    "from apsuite.orbcorr import OrbRespmat"
   ]
  },
  {
   "cell_type": "code",
   "execution_count": null,
   "metadata": {},
   "outputs": [],
   "source": [
    "def get_all_loco_fitting_folders(folder, prefix=''):\n",
    "    folder += '' if folder.endswith('/') else '/'\n",
    "    return sorted([\n",
    "        folder + f for f in os.listdir(prefix + folder) if '.' not in f and 'IVU_EMA_ACORM' in f])\n",
    "\n",
    "def get_idcs(fam_name, mod, idc_delta):\n",
    "    idc = np.array(pyaccel.lattice.find_indices(mod, 'fam_name', fam_name))\n",
    "    idx = np.argsort(np.abs(idc_delta-idc))[:2]\n",
    "    return idc[idx]"
   ]
  },
  {
   "cell_type": "markdown",
   "metadata": {},
   "source": [
    "# Load Data"
   ]
  },
  {
   "cell_type": "code",
   "execution_count": null,
   "metadata": {},
   "outputs": [],
   "source": [
    "allfols = []\n",
    "allfols += get_all_loco_fitting_folders('./')\n",
    "\n",
    "kparams = np.array([float(fname.split('/')[-1].split('_')[-1].replace('p', '.')) for fname in allfols])\n",
    "polarizations = np.array([fname.split('/')[-1].split('_')[-3] for fname in allfols])\n",
    "runs = np.array([fname.split('/')[0] for fname in allfols])"
   ]
  },
  {
   "cell_type": "code",
   "execution_count": null,
   "metadata": {},
   "outputs": [],
   "source": [
    "# Construct loco analysis\n",
    "alllocoanls = []\n",
    "fname_fittings_ = []\n",
    "for fol in allfols:\n",
    "    parent, fol = os.path.split(fol)\n",
    "    fname_input = f'{parent}/loco_input_{fol}.pickle'\n",
    "    fname_fit = f'{parent}/{fol}/fitting_{fol}.pickle'\n",
    "    fname_fittings_.append(fname_fit)\n",
    "    anl = LOCOAnalysis(\n",
    "        fname_setup= fname_input,\n",
    "        fname_fit= fname_fit,\n",
    "    )\n",
    "    anl.get_setup()\n",
    "    alllocoanls.append(anl)\n",
    "fname_fittings = np.array(fname_fittings_).ravel()"
   ]
  },
  {
   "cell_type": "code",
   "execution_count": null,
   "metadata": {},
   "outputs": [],
   "source": [
    "ref_model = load('./IVU_EMA_ACORM_kparam_24p000/fitting_IVU_EMA_ACORM_kparam_24p000.pickle')['fit_model']\n",
    "fam = si.get_family_data(ref_model)\n",
    "\n",
    "idc_delta = pyaccel.lattice.find_indices(ref_model, 'fam_name', 'IVU18')[0]\n",
    "idc_qfb = []\n",
    "idc_qdb1 = []\n",
    "idc_qdb2 = []\n",
    "idc_qfb.append(get_idcs('QFB', ref_model, idc_delta))\n",
    "idc_qdb1.append(get_idcs('QDB1', ref_model, idc_delta))\n",
    "idc_qdb2.append(get_idcs('QDB2', ref_model, idc_delta))\n",
    "\n",
    "idcs_qfb = np.array(idc_qfb).ravel()\n",
    "idcs_qdb1 = np.array(idc_qdb1).ravel()\n",
    "idcs_qdb2 = np.array(idc_qdb2).ravel()\n",
    "\n",
    "idcs_qn = np.array(fam['QN']['index']).ravel()\n",
    "kl0 = pyaccel.lattice.get_attribute(ref_model, 'KL', idcs_qn)\n",
    "\n",
    "\n",
    "kl0_qfb = pyaccel.lattice.get_attribute(ref_model, 'KL', idcs_qfb)\n",
    "kl0_qdb1 = pyaccel.lattice.get_attribute(ref_model, 'KL', idcs_qdb1)\n",
    "kl0_qdb2 = pyaccel.lattice.get_attribute(ref_model, 'KL', idcs_qdb2)"
   ]
  },
  {
   "cell_type": "code",
   "execution_count": null,
   "metadata": {},
   "outputs": [],
   "source": [
    "klf = np.zeros((len(idcs_qn), len(fname_fittings)))\n",
    "klf_qfb = np.zeros((len(idcs_qfb), len(fname_fittings)))\n",
    "klf_qdb1 = np.zeros((len(idcs_qdb1), len(fname_fittings)))\n",
    "klf_qdb2 = np.zeros((len(idcs_qdb2), len(fname_fittings)))\n",
    "\n",
    "for i, fname in enumerate(fname_fittings):\n",
    "    fitmodel = load(fname)['fit_model']\n",
    "    klf[:, i] = pyaccel.lattice.get_attribute(fitmodel, 'KL', idcs_qn)\n",
    "    klf_qfb[:, i] = pyaccel.lattice.get_attribute(fitmodel, 'KL', idcs_qfb)\n",
    "    klf_qdb1[:, i] = pyaccel.lattice.get_attribute(fitmodel, 'KL', idcs_qdb1)\n",
    "    klf_qdb2[:, i] = pyaccel.lattice.get_attribute(fitmodel, 'KL', idcs_qdb2)"
   ]
  },
  {
   "cell_type": "markdown",
   "metadata": {},
   "source": [
    "# Check KL variations"
   ]
  },
  {
   "cell_type": "code",
   "execution_count": null,
   "metadata": {},
   "outputs": [],
   "source": [
    "plt.figure()\n",
    "plt.title('QFB')\n",
    "plt.plot(kparams, 1e3*(klf_qfb[0, :]-kl0_qfb[0]), label='upstream')\n",
    "plt.plot(kparams, 1e3*(klf_qfb[1, :]-kl0_qfb[1]), label='downstream')\n",
    "plt.grid()\n",
    "plt.legend()\n",
    "plt.xlabel('kparam [mm]')\n",
    "plt.ylabel('K [1/km]')\n",
    "plt.show()"
   ]
  },
  {
   "cell_type": "code",
   "execution_count": null,
   "metadata": {},
   "outputs": [],
   "source": [
    "plt.figure()\n",
    "plt.title('QDB1')\n",
    "plt.plot(kparams, 1e3*(klf_qdb1[0, :]-kl0_qdb1[0]), label='upstream')\n",
    "plt.plot(kparams, 1e3*(klf_qdb1[1, :]-kl0_qdb1[1]), label='downstream')\n",
    "plt.grid()\n",
    "plt.legend()\n",
    "plt.xlabel('kparam [mm]')\n",
    "plt.ylabel('K [1/km]')\n",
    "plt.show()"
   ]
  },
  {
   "cell_type": "code",
   "execution_count": null,
   "metadata": {},
   "outputs": [],
   "source": [
    "plt.figure()\n",
    "plt.title('QDB2')\n",
    "plt.plot(kparams, 1e3*(klf_qdb2[0, :]-kl0_qdb2[0]), label='upstream')\n",
    "plt.plot(kparams, 1e3*(klf_qdb2[1, :]-kl0_qdb2[1]), label='downstream')\n",
    "plt.grid()\n",
    "plt.legend()\n",
    "plt.xlabel('kparam [mm]')\n",
    "plt.ylabel('K [1/km]')\n",
    "plt.show()"
   ]
  },
  {
   "cell_type": "markdown",
   "metadata": {},
   "source": [
    "# Check LOCO tunes and ORMs"
   ]
  },
  {
   "cell_type": "code",
   "execution_count": null,
   "metadata": {},
   "outputs": [],
   "source": [
    "respm_meas0 = load('loco_input_IVU_EMA_ACORM_kparam_24p000.pickle')['respmat']\n",
    "\n",
    "orb_respm0 = OrbRespmat(ref_model, 'SI')\n",
    "respmat0 = orb_respm0.get_respm()\n",
    "respmat0[:, -1] *= 1e6\n",
    "\n",
    "respmats = np.zeros((respmat0.shape[0], respmat0.shape[1], len(fname_fittings)))\n",
    "dmatf = np.zeros((np.product(respm_meas0.shape), len(fname_fittings)))\n",
    "for i, fname in enumerate(fname_fittings):\n",
    "    fitmodel = load(fname)['fit_model']\n",
    "    orb_respmf = OrbRespmat(fitmodel, 'SI')\n",
    "    respmatf = orb_respmf.get_respm()\n",
    "    respmatf[:, -1] *= 1e6\n",
    "    respmats[:, :, i] = respmatf\n",
    "    dmatf[:, i] = (respmats[:, :, i] - respm_meas0).ravel()\n",
    "std = dmatf.std(axis=0)\n",
    "plt.plot(std)"
   ]
  },
  {
   "cell_type": "code",
   "execution_count": null,
   "metadata": {},
   "outputs": [],
   "source": [
    "twiss0, *_ = pyaccel.optics.calc_twiss(ref_model, indices='open')\n",
    "mux0 = twiss0.mux[-1]/2/np.pi\n",
    "muy0 = twiss0.muy[-1]/2/np.pi\n",
    "mux = np.zeros(len(fname_fittings))\n",
    "muy = np.zeros(len(fname_fittings))\n",
    "for i, fname in enumerate(fname_fittings):\n",
    "    fitmodel = load(fname)['fit_model']\n",
    "    twiss, *_ = pyaccel.optics.calc_twiss(fitmodel, indices='open')\n",
    "    mux[i] = twiss.mux[-1]/2/np.pi - mux0\n",
    "    muy[i] = twiss.muy[-1]/2/np.pi - muy0\n",
    "plt.plot(kparams, muy)"
   ]
  }
 ],
 "metadata": {
  "kernelspec": {
   "display_name": "sirius",
   "language": "python",
   "name": "python3"
  },
  "language_info": {
   "name": "python",
   "version": "3.9.2"
  }
 },
 "nbformat": 4,
 "nbformat_minor": 2
}
