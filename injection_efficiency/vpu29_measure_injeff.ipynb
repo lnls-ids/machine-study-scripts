{
 "cells": [
  {
   "cell_type": "code",
   "execution_count": 2,
   "metadata": {
    "ExecuteTime": {
     "end_time": "2024-10-29T13:07:30.356774Z",
     "start_time": "2024-10-29T13:07:30.012479Z"
    }
   },
   "outputs": [],
   "source": [
    "%matplotlib qt5\n",
    "# %matplotlib notebook\n",
    "\n",
    "import time\n",
    "import os\n",
    "from datetime import datetime\n",
    "\n",
    "import numpy as np\n",
    "\n",
    "import matplotlib.pyplot as mplt\n",
    "import matplotlib.gridspec as mgs\n",
    "\n",
    "from siriuspy.search import IDSearch\n",
    "from siriuspy.devices import SOFB, HLFOFB, Tune, CurrInfoSI, RFGen, VPU,\\\n",
    "     EVG, InjCtrl\n",
    "from apsuite.commisslib.meas_ac_orm import MeasACORM\n",
    "\n",
    "from mathphys.functions import save, load\n",
    "\n",
    "mplt.rcParams.update({\n",
    "    'font.size': 12,'lines.linewidth': 2,\n",
    "    'axes.grid': True, 'grid.alpha': 0.5,\n",
    "    'grid.linestyle': '--', 'text.usetex': True*0})"
   ]
  },
  {
   "cell_type": "markdown",
   "metadata": {},
   "source": [
    "# Define functions"
   ]
  },
  {
   "cell_type": "code",
   "execution_count": 59,
   "metadata": {},
   "outputs": [],
   "source": [
    "def initialize_vpu(beamline):\n",
    "    # Search ID\n",
    "    devnamevpu = IDSearch.conv_beamline_2_idname(beamline=beamline)\n",
    "    vpu = VPU(devname=devnamevpu)\n",
    "\n",
    "    # Disable beamline control\n",
    "    vpu.cmd_beamline_ctrl_disable()\n",
    "    print('beamline control: ', vpu.is_beamline_ctrl_enabled)\n",
    "\n",
    "    # Set gap speed\n",
    "    vpu.set_gap_speed(1.0)\n",
    "    time.sleep(0.5)\n",
    "    print('gap speed: {:.3f} mm/s'.format(vpu.gap_speed))\n",
    "\n",
    "    return vpu\n",
    "\n",
    "def move_vpu_gap(vpu:VPU, gap, timeout, verbose=False):\n",
    "    vpu.set_gap(gap)\n",
    "    time.sleep(0.5)\n",
    "    print('Gap-RB {:.3f} mm'.format(vpu.gap)) if verbose else 0\n",
    "    if vpu.cmd_move_gap_start(timeout):\n",
    "        time.sleep(0.5)\n",
    "        print('Undulator is moving...') if verbose else 0\n",
    "        while vpu.is_moving:\n",
    "            time.sleep(0.1)\n",
    "            print('Current gap {:.3f} mm.'.format(vpu.gap_mon), end='\\r') if verbose else 0\n",
    "        print('Gap {:.3f} mm reached.'.format(vpu.gap)) if verbose else 0\n",
    "        return True\n",
    "    else:\n",
    "        print('Error while cmd_move_start.')\n",
    "        return False\n",
    "\n",
    "def move_vpu_gap_robust(vpu:VPU, gap, timeout, maxiter=3, verbose=False):\n",
    "    sucess = move_vpu_gap(vpu, gap=gap, timeout=timeout, verbose=verbose)\n",
    "    i=0\n",
    "    while not sucess and i<maxiter:\n",
    "        i += 1\n",
    "        print('Trying {:0f}/{:.0f}'.format(i, maxiter)) if verbose else 0\n",
    "        vpu.cmd_reset(timeout=timeout)\n",
    "        time.sleep(0.5)\n",
    "        sucess = move_vpu_gap(vpu, gap=gap, timeout=timeout, verbose=verbose)\n",
    "    if sucess:\n",
    "        print('Movimentation done!\\n')\n",
    "        return True\n",
    "    else:\n",
    "        print('Error while moving.\\n')\n",
    "        return False"
   ]
  },
  {
   "cell_type": "code",
   "execution_count": 141,
   "metadata": {},
   "outputs": [],
   "source": [
    "def meas_injeff(devices, nr_pulses=5):\n",
    "    evg = devices['evg']\n",
    "    currinfo = devices['currinfo']\n",
    "    injeffs = []\n",
    "    cnt = nr_pulses\n",
    "    inj0 = currinfo.injeff\n",
    "    while len(injeffs) < nr_pulses:\n",
    "        evg.cmd_turn_on_injection()\n",
    "        evg.wait_injection_finish()\n",
    "        time.sleep(3)\n",
    "        j = evg.bucketlist[0] \n",
    "        j += 29\n",
    "        bucket = j - (j//864) * 864\n",
    "        bucket = 864 if not bucket else bucket\n",
    "        evg.bucketlist = [bucket]\n",
    "        injn = currinfo.injeff\n",
    "        if inj0 != injn:\n",
    "            inj0 = injn\n",
    "            injeffs.append(injn)\n",
    "            cnt -= 1\n",
    "        if cnt == 0:\n",
    "            break\n",
    "    return injeffs\n",
    "\n",
    "def get_injeff_data(devices, nr_acq=5, nr_pulses=5, acq_sleep=1):\n",
    "\n",
    "    curr_data = np.zeros(nr_acq)\n",
    "    lifetime_data = np.zeros(nr_acq)\n",
    "    \n",
    "    print('measuring injeff...', end='\\r')\n",
    "    injeffs = meas_injeff(devices, nr_pulses)\n",
    "\n",
    "    print('measuring tunes...', end='\\r')\n",
    "    for i in range(nr_acq):\n",
    "        time.sleep(acq_sleep)\n",
    "        curr_data[i] = devices[\"currinfo\"].current\n",
    "        lifetime_data[i] = devices[\"currinfo\"].lifetime\n",
    "        \n",
    "    return curr_data, injeffs, lifetime_data\n",
    "\n",
    "def save_injeff_data(devices, injeff_data):\n",
    "    vpu = devices['vpu']\n",
    "    data = dict()\n",
    "    data['timestamps'] =  time.time()\n",
    "    data['gaps'] = (vpu.gap_mon)\n",
    "    data[\"current\"] = injeff_data[0]\n",
    "    data['inj_effs'] = injeff_data[1]\n",
    "    data['lifetimes'] = injeff_data[2]\n",
    "\n",
    "    data['beamlines'] = (IDSearch.conv_idname_2_beamline(vpu.devname))\n",
    "    \n",
    "    vpu_gap = '{:.2f}'.format(vpu.gap_mon).replace(\".\", \"p\")\n",
    "    save(data, f'injeff_VPU_gap_{vpu_gap}.pickle')    \n"
   ]
  },
  {
   "cell_type": "code",
   "execution_count": 62,
   "metadata": {},
   "outputs": [],
   "source": [
    "def create_devices():\n",
    "    devices = {}\n",
    "    devices[\"currinfo\"] = CurrInfoSI()\n",
    "    devices[\"tune\"] = Tune()\n",
    "    devices[\"vpu\"] = initialize_vpu(\"CARNAUBA\")\n",
    "    devices[\"sofb\"] = SOFB(SOFB.DEVICES.SI)\n",
    "    devices[\"fofb\"] = HLFOFB(HLFOFB.DEVICES.SI)\n",
    "    devices['rfgen'] = RFGen()\n",
    "    devices[\"evg\"] = EVG()\n",
    "    devices[\"injctrl\"] = InjCtrl()\n",
    "\n",
    "    evg = devices['evg']\n",
    "    evg.set_nrpulses(1)\n",
    "    evg.bucketlist = [1]\n",
    "    \n",
    "    return devices"
   ]
  },
  {
   "cell_type": "markdown",
   "metadata": {},
   "source": [
    "# Create objects"
   ]
  },
  {
   "cell_type": "code",
   "execution_count": 63,
   "metadata": {},
   "outputs": [
    {
     "name": "stdout",
     "output_type": "stream",
     "text": [
      "beamline control:  False\n",
      "center mode:  0\n",
      "pitch mode:  0\n",
      "gap speed: 0.100 mm/s\n",
      "gap: 24.000 mm\n",
      "beamline control:  False\n",
      "center mode:  0\n",
      "pitch mode:  0\n",
      "gap speed: 0.100 mm/s\n",
      "gap: 24.000 mm\n"
     ]
    }
   ],
   "source": [
    "devices = create_devices()"
   ]
  },
  {
   "cell_type": "markdown",
   "metadata": {},
   "source": [
    "# Initialize objects"
   ]
  },
  {
   "cell_type": "code",
   "execution_count": 64,
   "metadata": {
    "ExecuteTime": {
     "end_time": "2024-10-29T13:18:35.564309Z",
     "start_time": "2024-10-29T13:18:35.549449Z"
    }
   },
   "outputs": [],
   "source": [
    "# Set injection mode to decay\n",
    "timeout = 3\n",
    "vpu = devices[\"vpu\"]"
   ]
  },
  {
   "cell_type": "code",
   "execution_count": 66,
   "metadata": {},
   "outputs": [],
   "source": [
    "# test measurement\n",
    "injeffs = meas_injeff(devices, nr_pulses=8)"
   ]
  },
  {
   "cell_type": "markdown",
   "metadata": {
    "heading_collapsed": true
   },
   "source": [
    "# Collect injeff data"
   ]
  },
  {
   "cell_type": "markdown",
   "metadata": {
    "hidden": true
   },
   "source": [
    "## Get injeff data"
   ]
  },
  {
   "cell_type": "code",
   "execution_count": 71,
   "metadata": {
    "hidden": true
   },
   "outputs": [
    {
     "name": "stdout",
     "output_type": "stream",
     "text": [
      "measuring tunes....\r"
     ]
    }
   ],
   "source": [
    "injeff_data = get_injeff_data(devices, nr_acq=5, nr_pulses=8, acq_sleep=1)"
   ]
  },
  {
   "cell_type": "markdown",
   "metadata": {
    "hidden": true
   },
   "source": [
    "## Save"
   ]
  },
  {
   "cell_type": "code",
   "execution_count": 78,
   "metadata": {
    "hidden": true
   },
   "outputs": [],
   "source": [
    "save_injeff_data(devices, injeff_data)"
   ]
  }
 ],
 "metadata": {
  "kernelspec": {
   "display_name": "Python 3",
   "language": "python",
   "name": "python3"
  },
  "language_info": {
   "codemirror_mode": {
    "name": "ipython",
    "version": 3
   },
   "file_extension": ".py",
   "mimetype": "text/x-python",
   "name": "python",
   "nbconvert_exporter": "python",
   "pygments_lexer": "ipython3",
   "version": "3.9.2"
  },
  "latex_envs": {
   "LaTeX_envs_menu_present": true,
   "autoclose": false,
   "autocomplete": true,
   "bibliofile": "biblio.bib",
   "cite_by": "apalike",
   "current_citInitial": 1,
   "eqLabelWithNumbers": true,
   "eqNumInitial": 1,
   "hotkeys": {
    "equation": "Ctrl-E",
    "itemize": "Ctrl-I"
   },
   "labels_anchors": false,
   "latex_user_defs": false,
   "report_style_numbering": false,
   "user_envs_cfg": false
  },
  "vscode": {
   "interpreter": {
    "hash": "aee8b7b246df8f9039afb4144a1f6fd8d2ca17a180786b69acc140d282b71a49"
   }
  }
 },
 "nbformat": 4,
 "nbformat_minor": 2
}
