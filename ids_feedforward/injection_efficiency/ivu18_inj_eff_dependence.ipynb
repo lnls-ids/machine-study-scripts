{
 "cells": [
  {
   "cell_type": "code",
   "execution_count": 1,
   "metadata": {},
   "outputs": [],
   "source": [
    "import time\n",
    "import os\n",
    "from datetime import datetime\n",
    "\n",
    "import numpy as np\n",
    "import matplotlib.pyplot as plt\n",
    "\n",
    "from siriuspy.search import IDSearch\n",
    "from siriuspy.devices import IVU, SOFB, HLFOFB, IDFF, Tune, DVFImgProc\n",
    "\n",
    "import epics\n",
    "from mathphys.functions import save, load\n",
    "\n",
    "timeout = 3"
   ]
  },
  {
   "cell_type": "markdown",
   "metadata": {},
   "source": [
    "# Functions definition"
   ]
  },
  {
   "cell_type": "code",
   "execution_count": 2,
   "metadata": {},
   "outputs": [],
   "source": [
    "def initialize_ivu(beamline):\n",
    "    # Search ID\n",
    "    devnameivu = IDSearch.conv_beamline_2_idname(beamline=beamline)\n",
    "    ivu = IVU(devname=devnameivu)\n",
    "\n",
    "    # Disable beamline control\n",
    "    ivu.cmd_beamline_ctrl_disable()\n",
    "    print('beamline control: ', ivu.is_beamline_ctrl_enabled)\n",
    "\n",
    "    # Disable center mode and pitch mode\n",
    "    ivu.set_center_mode(False)\n",
    "    ivu.set_pitch_mode(False)\n",
    "    time.sleep(0.5)\n",
    "    print('center mode: ', ivu.center_mode_status)\n",
    "    print('pitch mode: ', ivu.pitch_mode_status)\n",
    "\n",
    "    # Set gap speed\n",
    "    ivu.set_gap_speed(0.1)\n",
    "    time.sleep(0.5)\n",
    "    print('gap speed: {:.3f} mm/s'.format(ivu.gap_speed))\n",
    "\n",
    "    # Set gap to parked condition\n",
    "    ivu.set_gap(ivu.kparameter_parked)\n",
    "    time.sleep(0.5)\n",
    "    print('gap: {:.3f} mm'.format(ivu.gap))\n",
    "\n",
    "    return ivu\n",
    "\n",
    "def move_ivu_gap(ivu:IVU, gap, timeout, verbose=False):\n",
    "    ivu.set_gap(gap)\n",
    "    time.sleep(0.5)\n",
    "    print('Gap-RB {:.3f} mm'.format(ivu.gap)) if verbose else 0\n",
    "    if ivu.cmd_move_gap_start(timeout):\n",
    "        time.sleep(0.5)\n",
    "        print('Undulator is moving...') if verbose else 0\n",
    "        while ivu.is_moving:\n",
    "            time.sleep(0.1)\n",
    "            print('Current gap {:.3f} mm.'.format(ivu.gap_mon), end='\\r') if verbose else 0\n",
    "        print('Gap {:.3f} mm reached.'.format(ivu.gap)) if verbose else 0\n",
    "        return True\n",
    "    else:\n",
    "        print('Error while cmd_move_start.')\n",
    "        return False\n",
    "\n",
    "def move_ivu_gap_robust(ivu:IVU, gap, timeout, maxiter=3, verbose=False):\n",
    "    sucess = move_ivu_gap(ivu, gap=gap, timeout=timeout, verbose=verbose)\n",
    "    i=0\n",
    "    while not sucess and i<maxiter:\n",
    "        i += 1\n",
    "        print('Trying {:0f}/{:.0f}'.format(i, maxiter)) if verbose else 0\n",
    "        ivu.cmd_reset(timeout=timeout)\n",
    "        time.sleep(0.5)\n",
    "        sucess = move_ivu_gap(ivu, gap=gap, timeout=timeout, verbose=verbose)\n",
    "    if sucess:\n",
    "        print('Movimentation done!\\n')\n",
    "        return True\n",
    "    else:\n",
    "        print('Error while moving.\\n')\n",
    "        return False\n",
    "\n",
    "def get_data(inj_eff, lifetime, tune, nr_acq=10, acq_sleep=0.5):\n",
    "    tunex_data = np.zeros(nr_acq)\n",
    "    tuney_data = np.zeros(nr_acq)\n",
    "    lifetime_data = np.zeros(nr_acq)\n",
    "    inj_eff_data = np.zeros(nr_acq)\n",
    "    for i in range(nr_acq):\n",
    "        tunex_data[i] = tune.tunex\n",
    "        tuney_data[i] = tune.tuney\n",
    "        lifetime_data[i] = lifetime.get()\n",
    "        inj_eff_data[i] = inj_eff.get()\n",
    "        time.sleep(acq_sleep)\n",
    "    return tunex_data, tuney_data, inj_eff_data, lifetime_data\n"
   ]
  },
  {
   "cell_type": "markdown",
   "metadata": {},
   "source": [
    "## Search devnames"
   ]
  },
  {
   "cell_type": "code",
   "execution_count": 3,
   "metadata": {},
   "outputs": [],
   "source": [
    "devnameivu_ema = IDSearch.conv_beamline_2_idname(beamline='EMA')\n",
    "devnameivu_paineira = IDSearch.conv_beamline_2_idname(beamline='PAINEIRA')"
   ]
  },
  {
   "cell_type": "markdown",
   "metadata": {},
   "source": [
    "## Initialize devices"
   ]
  },
  {
   "cell_type": "code",
   "execution_count": 12,
   "metadata": {},
   "outputs": [
    {
     "name": "stdout",
     "output_type": "stream",
     "text": [
      "Tune connected:  True\n"
     ]
    }
   ],
   "source": [
    "ivu = initialize_ivu(beamline='EMA')\n",
    "ivu.set_gap_speed(0.5)\n",
    "time.sleep(0.5)\n",
    "print(ivu.gap_speed)\n",
    "\n",
    "lifetime = epics.PV('SI-Glob:AP-CurrInfo:Lifetime-Mon')\n",
    "inj_eff = epics.PV('SI-Glob:AP-CurrInfo:InjEff-Mon')\n",
    "\n",
    "tune = Tune(Tune.DEVICES.SI)\n",
    "tune.wait_for_connection(timeout=timeout)\n",
    "print('Tune connected: ', tune.connected)"
   ]
  },
  {
   "cell_type": "code",
   "execution_count": 7,
   "metadata": {},
   "outputs": [],
   "source": [
    "sofb = SOFB(SOFB.DEVICES.SI)\n",
    "fofb = HLFOFB(HLFOFB.DEVICES.SI)"
   ]
  },
  {
   "cell_type": "markdown",
   "metadata": {},
   "source": [
    "### Make sure SOFB and FOFB loops are closed"
   ]
  },
  {
   "cell_type": "code",
   "execution_count": null,
   "metadata": {},
   "outputs": [],
   "source": [
    "sofb.cmd_turn_on_autocorr()\n",
    "fofb.cmd_turn_on_loop_state()"
   ]
  },
  {
   "cell_type": "markdown",
   "metadata": {},
   "source": [
    "# Meas injection efficiency and lifetime"
   ]
  },
  {
   "cell_type": "code",
   "execution_count": 19,
   "metadata": {},
   "outputs": [
    {
     "name": "stdout",
     "output_type": "stream",
     "text": [
      "[24 23 22]\n"
     ]
    }
   ],
   "source": [
    "gaps = np.arange(24, 21, -1)\n",
    "print(gaps)"
   ]
  },
  {
   "cell_type": "code",
   "execution_count": 29,
   "metadata": {},
   "outputs": [
    {
     "name": "stdout",
     "output_type": "stream",
     "text": [
      "24\n",
      "Done! ETA: 40.393s\n",
      "23\n",
      "Done! ETA: 40.401s\n",
      "22\n",
      "Done! ETA: 40.429s\n"
     ]
    }
   ],
   "source": [
    "nr_acq = 10\n",
    "acq_sleep = 0.5\n",
    "seconds_per_gap = 300\n",
    "\n",
    "data = dict()\n",
    "data['gap'] = list()\n",
    "data['gap_mon'] = list()\n",
    "data['timestamps'] = list()\n",
    "data['gap_speed'] = list()\n",
    "data['tunex'] = list()\n",
    "data['tuney'] = list()\n",
    "data['inj_eff'] = list()\n",
    "data['lifetime'] = list()\n",
    "data['beamline'] = IDSearch.conv_idname_2_beamline(ivu.devname)\n",
    "for i, gap in enumerate(gaps):\n",
    "    sucess = move_ivu_gap_robust(ivu, gap=gap, timeout=timeout, verbose=True)\n",
    "\n",
    "    # Verify if undulator moved\n",
    "    if not sucess:\n",
    "        break\n",
    "    \n",
    "    gap_mon = ivu.gap_mon\n",
    "    t0 = time.time()\n",
    "    deltat = 0\n",
    "    while deltat < seconds_per_gap:\n",
    "    \n",
    "        time.sleep(3)\n",
    "        # Record info\n",
    "        t = time.time()\n",
    "        data['gap'].append(gap)\n",
    "        data['gap_mon'].append(gap_mon)\n",
    "        data['timestamps'].append(t)\n",
    "        data['gap_speed'].append(ivu.gap_speed)\n",
    "        data_acq = get_data(inj_eff, lifetime, tune, nr_acq, acq_sleep)\n",
    "        tunex, tuney, inj_eff_data, lifetime_data = data_acq\n",
    "        data['tunex'].append(tunex)\n",
    "        data['tuney'].append(tuney)\n",
    "        data['inj_eff'].append(inj_eff_data)\n",
    "        data['lifetime'].append(lifetime_data)\n",
    "        deltat = t - t0\n",
    "\n",
    "    print(f'Done! ETA: {time.time()-t0:.3f}s')\n",
    "    save(data, 'inj_eff_IVU_{}_gap_{:.1f}.pickle'.format(IDSearch.conv_idname_2_beamline(ivu.devname), gap))"
   ]
  }
 ],
 "metadata": {
  "kernelspec": {
   "display_name": "Python 3",
   "language": "python",
   "name": "python3"
  },
  "language_info": {
   "codemirror_mode": {
    "name": "ipython",
    "version": 3
   },
   "file_extension": ".py",
   "mimetype": "text/x-python",
   "name": "python",
   "nbconvert_exporter": "python",
   "pygments_lexer": "ipython3",
   "version": "3.9.2"
  },
  "vscode": {
   "interpreter": {
    "hash": "aee8b7b246df8f9039afb4144a1f6fd8d2ca17a180786b69acc140d282b71a49"
   }
  }
 },
 "nbformat": 4,
 "nbformat_minor": 2
}
