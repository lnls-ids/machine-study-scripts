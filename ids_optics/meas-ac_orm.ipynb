{
 "cells": [
  {
   "cell_type": "markdown",
   "metadata": {},
   "source": [
    "# Import libraries"
   ]
  },
  {
   "cell_type": "code",
   "execution_count": 1,
   "metadata": {
    "ExecuteTime": {
     "end_time": "2025-04-16T17:01:11.216686Z",
     "start_time": "2025-04-16T17:01:08.740984Z"
    },
    "init_cell": true
   },
   "outputs": [],
   "source": [
    "%gui qt5\n",
    "%matplotlib qt5\n",
    "\n",
    "import time\n",
    "import os\n",
    "from datetime import datetime\n",
    "\n",
    "import numpy as np\n",
    "import matplotlib.pyplot as mplt\n",
    "\n",
    "from siriuspy.devices import SOFB, Tune, RFGen\n",
    "from apsuite.commisslib.meas_ac_orm import MeasACORM\n",
    "\n",
    "from mathphys.functions import save, load\n",
    "\n",
    "mplt.rcParams.update({\n",
    "    'font.size': 12,'lines.linewidth': 2,\n",
    "    'axes.grid': True, 'grid.alpha': 0.5,\n",
    "    'grid.linestyle': '--', 'text.usetex': True*0})"
   ]
  },
  {
   "cell_type": "markdown",
   "metadata": {},
   "source": [
    "# Create Objects"
   ]
  },
  {
   "cell_type": "code",
   "execution_count": 122,
   "metadata": {
    "ExecuteTime": {
     "end_time": "2025-04-16T17:01:28.755401Z",
     "start_time": "2025-04-16T17:01:11.220166Z"
    },
    "init_cell": true
   },
   "outputs": [
    {
     "name": "stdout",
     "output_type": "stream",
     "text": [
      "Creating kick converters  -> ET: = 2.69s\n",
      "Creating correctors       -> ET: = 11.20s\n",
      "Creating General Devices  -> ET: = 0.01s\n",
      "Creating Timing           -> ET: = 0.04s\n",
      "Creating BPMs             -> ET: = 3.29s\n"
     ]
    }
   ],
   "source": [
    "meas_orm = MeasACORM(isonline=True)\n",
    "sofb = SOFB(SOFB.DEVICES.SI)\n",
    "tune = Tune(Tune.DEVICES.SI)"
   ]
  },
  {
   "cell_type": "markdown",
   "metadata": {},
   "source": [
    "# Configure Measurement"
   ]
  },
  {
   "cell_type": "code",
   "execution_count": 123,
   "metadata": {
    "ExecuteTime": {
     "end_time": "2025-04-16T17:01:29.177253Z",
     "start_time": "2025-04-16T17:01:29.161085Z"
    },
    "init_cell": true
   },
   "outputs": [],
   "source": [
    "meas_orm.params.timeout_bpms = 60\n",
    "meas_orm.params.timeout_correctors = 20\n",
    "meas_orm.params.ref_respmat_name = 'ref_respmat'\n",
    "meas_orm.params.meas_bpms_noise = True\n",
    "meas_orm.params.meas_rf_line = True*1\n",
    "\n",
    "# meas_orm.params.corrs_ch2meas = meas_orm.sofb_data.ch_names[-1:] + meas_orm.sofb_data.ch_names[:5]  # 'all'\n",
    "# meas_orm.params.corrs_cv2meas = meas_orm.sofb_data.cv_names[-1:] + meas_orm.sofb_data.cv_names[:7]  # 'all'\n",
    "meas_orm.params.corrs_ch2meas = 'all'\n",
    "meas_orm.params.corrs_cv2meas = 'all'\n",
    "meas_orm.params.corrs_nrruns_per_acq = 4\n",
    "meas_orm.params.corrs_excit_time = 4.000\n",
    "meas_orm.params.corrs_delay = 5e-3\n",
    "meas_orm.params.corrs_norm_kicks = True\n",
    "meas_orm.params.corrs_ch_kick = 5.000\n",
    "meas_orm.params.corrs_cv_kick = 5.000\n",
    "meas_orm.params.corrs_dorb1ch = 40.000\n",
    "meas_orm.params.corrs_dorb1cv = 40.000\n",
    "\n",
    "nrsecs = 1\n",
    "primes = meas_orm.params.find_primes(2*8*nrsecs + 2, 3)\n",
    "primes = np.array(sorted(set(primes) - {59, 61}))\n",
    "cv_freqs = primes[:8*nrsecs]\n",
    "primes = np.array(sorted(set(primes) - set(cv_freqs)))\n",
    "ch_freqs = primes[:6*nrsecs]\n",
    "meas_orm.params.corrs_ch_freqs = ch_freqs\n",
    "meas_orm.params.corrs_cv_freqs = cv_freqs\n",
    "\n",
    "meas_orm.params.rf_excit_time = 1.000\n",
    "meas_orm.params.rf_mode = 'Step'\n",
    "meas_orm.params.rf_step_kick = 5.000\n",
    "meas_orm.params.rf_step_delay = 0.5\n",
    "meas_orm.params.rf_phase_amp = 2.000"
   ]
  },
  {
   "cell_type": "code",
   "execution_count": 124,
   "metadata": {
    "ExecuteTime": {
     "end_time": "2025-04-16T17:01:29.261154Z",
     "start_time": "2025-04-16T17:01:29.181404Z"
    },
    "init_cell": true,
    "scrolled": false
   },
   "outputs": [
    {
     "name": "stdout",
     "output_type": "stream",
     "text": [
      "timeout_bpms             =    60.000  [s]\n",
      "timeout_correctors       =    20.000  [s]\n",
      "ref_respmat_name         = ref_respmat  \n",
      "meas_bpms_noise          = True       \n",
      "meas_rf_line             = 1          \n",
      "corrs_ch2meas            = all        \n",
      "corrs_cv2meas            = all        \n",
      "corrs_nrruns_per_acq     =         4  \n",
      "corrs_excit_time         =     4.000  [s]\n",
      "corrs_delay              =     0.005  [s]\n",
      "corrs_norm_kicks         = True       \n",
      "corrs_ch_kick            =     5.000  [urad] (only used if corrs_norm_kicks == False)\n",
      "corrs_cv_kick            =     5.000  [urad] (only used if corrs_norm_kicks == False)\n",
      "corrs_dorb1ch            =    40.000  [um] (only used if corrs_norm_kicks == True)\n",
      "corrs_dorb1cv            =    40.000  [um] (only used if corrs_norm_kicks == True)\n",
      "corrs_ch_freqs           = [29 31 37 41 43 47]  [Hz]\n",
      "corrs_cv_freqs           = [ 3  5  7 11 13 17 19 23]  [Hz]\n",
      "rf_excit_time            =     1.000  [s]\n",
      "rf_mode                  = Step       RFModes(Step=0, Phase=1)\n",
      "rf_step_kick             =     5.000  [Hz]\n",
      "rf_step_delay            =     0.500  [s]\n",
      "rf_phase_amp             =     2.000  [°]\n",
      "\n"
     ]
    }
   ],
   "source": [
    "print(meas_orm.params)"
   ]
  },
  {
   "cell_type": "markdown",
   "metadata": {},
   "source": [
    "# Meas AC ORM"
   ]
  },
  {
   "cell_type": "code",
   "execution_count": 125,
   "metadata": {
    "ExecuteTime": {
     "end_time": "2025-04-16T17:43:03.629694Z",
     "start_time": "2025-04-16T17:43:03.591278Z"
    },
    "scrolled": false
   },
   "outputs": [
    {
     "name": "stdout",
     "output_type": "stream",
     "text": [
      "Measuring BPMs Noise:\n",
      "    Configuring BPMs..."
     ]
    },
    {
     "name": "stdout",
     "output_type": "stream",
     "text": [
      "Done! ET: 1.62s\n",
      "    Sending Trigger signal...Done! ET: 0.48s\n",
      "    Waiting BPMs to update..."
     ]
    }
   ],
   "source": [
    "meas_orm.start()"
   ]
  },
  {
   "cell_type": "code",
   "execution_count": 127,
   "metadata": {
    "ExecuteTime": {
     "end_time": "2025-04-16T17:46:09.285294Z",
     "start_time": "2025-04-16T17:46:09.280960Z"
    }
   },
   "outputs": [
    {
     "data": {
      "text/plain": [
       "True"
      ]
     },
     "execution_count": 127,
     "metadata": {},
     "output_type": "execute_result"
    },
    {
     "name": "stdout",
     "output_type": "stream",
     "text": [
      "Done! ET: 30.20s\n",
      "    Changing Correctors to SlowRef...Done! ET: 0.52s\n",
      "  Elapsed Time: 34.40s\n",
      "Finished!!  ET: 2.85min\n",
      "All measurements finished!!\n"
     ]
    }
   ],
   "source": [
    "meas_orm.ismeasuring"
   ]
  },
  {
   "cell_type": "code",
   "execution_count": 12,
   "metadata": {
    "ExecuteTime": {
     "end_time": "2025-04-16T12:01:25.147690Z",
     "start_time": "2025-04-16T12:01:25.143148Z"
    }
   },
   "outputs": [],
   "source": [
    "meas_orm.stop()"
   ]
  },
  {
   "cell_type": "code",
   "execution_count": 128,
   "metadata": {
    "ExecuteTime": {
     "end_time": "2025-04-16T17:46:10.902259Z",
     "start_time": "2025-04-16T17:46:10.895584Z"
    }
   },
   "outputs": [
    {
     "data": {
      "text/plain": [
       "True"
      ]
     },
     "execution_count": 128,
     "metadata": {},
     "output_type": "execute_result"
    }
   ],
   "source": [
    "meas_orm.check_measurement_finished_ok()"
   ]
  },
  {
   "cell_type": "code",
   "execution_count": 129,
   "metadata": {
    "ExecuteTime": {
     "end_time": "2025-04-16T17:46:14.751045Z",
     "start_time": "2025-04-16T17:46:12.415126Z"
    }
   },
   "outputs": [
    {
     "name": "stdout",
     "output_type": "stream",
     "text": [
      "Processing Magnets Data:\n",
      "  Acquisition 01/20 ET: 0.476126s\n",
      "  Acquisition 02/20 ET: 0.163081s\n",
      "  Acquisition 03/20 ET: 0.072383s\n",
      "  Acquisition 04/20 ET: 0.062563s\n",
      "  Acquisition 05/20 ET: 0.062864s\n",
      "  Acquisition 06/20 ET: 0.062800s\n",
      "  Acquisition 07/20 ET: 0.062985s\n",
      "  Acquisition 08/20 ET: 0.063000s\n",
      "  Acquisition 09/20 ET: 0.061603s\n",
      "  Acquisition 10/20 ET: 0.061980s\n",
      "  Acquisition 11/20 ET: 0.064113s\n",
      "  Acquisition 12/20 ET: 0.063280s\n",
      "  Acquisition 13/20 ET: 0.062886s\n",
      "  Acquisition 14/20 ET: 0.067632s\n",
      "  Acquisition 15/20 ET: 0.063431s\n",
      "  Acquisition 16/20 ET: 0.063236s\n",
      "  Acquisition 17/20 ET: 0.063589s\n",
      "  Acquisition 18/20 ET: 0.062005s\n",
      "  Acquisition 19/20 ET: 0.064503s\n",
      "  Acquisition 20/20 ET: 0.062744s\n",
      "Done processing Magnets Data!\n",
      "Processing RF Step...Done! ET: 0.027526s\n",
      "Processing BPMs Noise...Done! ET: 0.180273s\n"
     ]
    }
   ],
   "source": [
    "meas_orm.process_data()"
   ]
  },
  {
   "cell_type": "code",
   "execution_count": 133,
   "metadata": {
    "ExecuteTime": {
     "end_time": "2025-04-16T17:46:16.856004Z",
     "start_time": "2025-04-16T17:46:16.848864Z"
    }
   },
   "outputs": [
    {
     "data": {
      "text/plain": [
       "True"
      ]
     },
     "execution_count": 133,
     "metadata": {},
     "output_type": "execute_result"
    }
   ],
   "source": [
    "meas_orm.check_measurement_quality()"
   ]
  },
  {
   "cell_type": "code",
   "execution_count": 131,
   "metadata": {
    "ExecuteTime": {
     "end_time": "2025-04-16T17:46:18.215515Z",
     "start_time": "2025-04-16T17:46:18.211096Z"
    }
   },
   "outputs": [],
   "source": [
    "ac_respmat = meas_orm.build_respmat()"
   ]
  },
  {
   "cell_type": "code",
   "execution_count": 132,
   "metadata": {
    "ExecuteTime": {
     "end_time": "2025-04-16T17:46:19.394561Z",
     "start_time": "2025-04-16T17:46:19.344292Z"
    }
   },
   "outputs": [],
   "source": [
    "meas_orm.save_loco_input_data('meas_at_200mA_21_06_2025', matrix=ac_respmat)"
   ]
  },
  {
   "cell_type": "code",
   "execution_count": 134,
   "metadata": {
    "ExecuteTime": {
     "end_time": "2025-04-16T17:07:01.632451Z",
     "start_time": "2025-04-16T17:07:01.629242Z"
    }
   },
   "outputs": [],
   "source": [
    "ref_respmat = meas_orm.get_ref_respmat()"
   ]
  },
  {
   "cell_type": "markdown",
   "metadata": {},
   "source": [
    "# Analysis"
   ]
  },
  {
   "cell_type": "code",
   "execution_count": 136,
   "metadata": {
    "ExecuteTime": {
     "end_time": "2025-04-16T17:07:03.932634Z",
     "start_time": "2025-04-16T17:07:03.693863Z"
    }
   },
   "outputs": [],
   "source": [
    "mplt.figure(figsize=(10, 4))\n",
    "idx = 0\n",
    "mplt.plot(ref_respmat[:, idx], label='Ref', ls='-')\n",
    "mplt.plot(ac_respmat[:, idx], label='AC', ls='--')\n",
    "mplt.legend()\n",
    "mplt.show()"
   ]
  },
  {
   "cell_type": "markdown",
   "metadata": {},
   "source": [
    "### Scale Factors"
   ]
  },
  {
   "cell_type": "code",
   "execution_count": 36,
   "metadata": {
    "ExecuteTime": {
     "end_time": "2025-04-16T12:06:40.296615Z",
     "start_time": "2025-04-16T12:06:39.522688Z"
    }
   },
   "outputs": [],
   "source": [
    "fig, ax = meas_orm.plot_scale_conversion_factors()"
   ]
  },
  {
   "cell_type": "markdown",
   "metadata": {},
   "source": [
    "### Correlation Residues"
   ]
  },
  {
   "cell_type": "code",
   "execution_count": 38,
   "metadata": {
    "ExecuteTime": {
     "end_time": "2025-04-16T12:18:33.422629Z",
     "start_time": "2025-04-16T12:18:33.418623Z"
    }
   },
   "outputs": [],
   "source": [
    "mat_ac = ac_respmat\n",
    "mat_dc = ref_respmat"
   ]
  },
  {
   "cell_type": "code",
   "execution_count": 44,
   "metadata": {
    "ExecuteTime": {
     "end_time": "2025-04-16T12:18:34.748488Z",
     "start_time": "2025-04-16T12:18:34.103528Z"
    },
    "scrolled": false
   },
   "outputs": [
    {
     "name": "stdout",
     "output_type": "stream",
     "text": [
      "Done! ET: 3.91s\n",
      "    Elapsed Time: 6.93s\n",
      "Measuring Magnets:\n",
      "  Acquisition 01/05\n",
      "    Configuring BPMs and timing...Done! ET: 1.65s\n",
      "    Configuring Correctors...Done! ET: 0.51s\n",
      "    Changing Correctors to Cycle...Done! ET: 0.33s\n",
      "    Sending Timing signal...Done! ET: 0.25s\n",
      "    Waiting BPMs to update...Done! ET: 27.73s\n",
      "    Changing Correctors to SlowRef...Done! ET: 0.35s\n",
      "  Elapsed Time: 31.21s\n",
      "  Acquisition 02/05\n",
      "    Configuring BPMs and timing...Done! ET: 1.57s\n",
      "    Configuring Correctors...Done! ET: 0.49s\n",
      "    Changing Correctors to Cycle...Done! ET: 0.43s\n",
      "    Sending Timing signal...Done! ET: 0.80s\n",
      "    Waiting BPMs to update..."
     ]
    }
   ],
   "source": [
    "fig, axs, corr = meas_orm.plot_comparison_correlations(mat_ac=mat_ac, mat_dc=mat_dc)\n",
    "corr_h = corr[:, :120]\n",
    "corr_v = corr[:, 120:280]\n",
    "corr_rf = corr[:, -1]"
   ]
  },
  {
   "cell_type": "code",
   "execution_count": 29,
   "metadata": {
    "ExecuteTime": {
     "end_time": "2024-10-18T20:28:09.945672Z",
     "start_time": "2024-10-18T20:28:09.940606Z"
    }
   },
   "outputs": [],
   "source": [
    "idcsh = corr_h[1].argsort()\n",
    "idcsv = corr_v[0].argsort() + 120"
   ]
  },
  {
   "cell_type": "code",
   "execution_count": 30,
   "metadata": {
    "ExecuteTime": {
     "end_time": "2024-10-18T20:28:11.696922Z",
     "start_time": "2024-10-18T20:28:10.741053Z"
    }
   },
   "outputs": [],
   "source": [
    "fig, axs = meas_orm.plot_comparison_single_corrector(idcsh[-1], mat_ac=mat_ac, mat_dc=mat_dc)\n",
    "fig, axs = meas_orm.plot_comparison_single_corrector(idcsv[-1], mat_ac=mat_ac, mat_dc=mat_dc)"
   ]
  },
  {
   "cell_type": "markdown",
   "metadata": {},
   "source": [
    "### Analyse Fitting"
   ]
  },
  {
   "cell_type": "code",
   "execution_count": 5,
   "metadata": {
    "ExecuteTime": {
     "end_time": "2025-04-16T17:01:29.312253Z",
     "start_time": "2025-04-16T17:01:29.263631Z"
    },
    "init_cell": true
   },
   "outputs": [
    {
     "name": "stdout",
     "output_type": "stream",
     "text": [
      "Done with Initiallization!\n"
     ]
    }
   ],
   "source": [
    "print('Done with Initiallization!')"
   ]
  },
  {
   "cell_type": "code",
   "execution_count": 25,
   "metadata": {
    "ExecuteTime": {
     "end_time": "2025-04-16T12:07:35.344848Z",
     "start_time": "2025-04-16T12:07:34.855446Z"
    }
   },
   "outputs": [],
   "source": [
    "fig, axs, *orbs = meas_orm.plot_orbit_residue_after_fitting(bpm_idx=0, excit_idx=0, time_domain=True)"
   ]
  },
  {
   "cell_type": "code",
   "execution_count": 26,
   "metadata": {
    "ExecuteTime": {
     "end_time": "2025-04-16T12:07:49.735692Z",
     "start_time": "2025-04-16T12:07:49.042514Z"
    }
   },
   "outputs": [],
   "source": [
    "fig, axs, *orbs = meas_orm.plot_orbit_residue_after_fitting(bpm_idx=0, excit_idx=0, time_domain=False)"
   ]
  },
  {
   "cell_type": "markdown",
   "metadata": {},
   "source": [
    "### Analyse idx_ini"
   ]
  },
  {
   "cell_type": "code",
   "execution_count": 17,
   "metadata": {
    "ExecuteTime": {
     "end_time": "2024-01-03T16:40:34.482242Z",
     "start_time": "2024-01-03T16:40:34.246668Z"
    }
   },
   "outputs": [],
   "source": [
    "idx = -1\n",
    "fig, axs = meas_orm.plot_phases_vs_amplitudes(title='', corrsidx2highlight=[idcsh[-1], idcsv[-1]])"
   ]
  },
  {
   "cell_type": "code",
   "execution_count": 18,
   "metadata": {
    "ExecuteTime": {
     "end_time": "2024-01-03T16:40:44.412292Z",
     "start_time": "2024-01-03T16:40:43.998749Z"
    }
   },
   "outputs": [],
   "source": [
    "fig, axs = meas_orm.plot_phases_histogram(title='')"
   ]
  },
  {
   "cell_type": "code",
   "execution_count": 51,
   "metadata": {
    "ExecuteTime": {
     "end_time": "2023-12-12T01:49:21.439864Z",
     "start_time": "2023-12-12T01:49:21.435080Z"
    }
   },
   "outputs": [
    {
     "data": {
      "text/plain": [
       "False"
      ]
     },
     "execution_count": 51,
     "metadata": {},
     "output_type": "execute_result"
    }
   ],
   "source": [
    "meas_orm.ismeasuring\n"
   ]
  },
  {
   "cell_type": "code",
   "execution_count": 47,
   "metadata": {
    "ExecuteTime": {
     "end_time": "2023-12-12T00:41:27.419983Z",
     "start_time": "2023-12-12T00:41:27.416463Z"
    }
   },
   "outputs": [],
   "source": [
    "meas_orm.verbose = False"
   ]
  },
  {
   "cell_type": "code",
   "execution_count": null,
   "metadata": {},
   "outputs": [],
   "source": []
  }
 ],
 "metadata": {
  "celltoolbar": "Initialization Cell",
  "hide_input": false,
  "kernelspec": {
   "display_name": "Python 3",
   "language": "python",
   "name": "python3"
  },
  "language_info": {
   "codemirror_mode": {
    "name": "ipython",
    "version": 3
   },
   "file_extension": ".py",
   "mimetype": "text/x-python",
   "name": "python",
   "nbconvert_exporter": "python",
   "pygments_lexer": "ipython3",
   "version": "3.6.8"
  },
  "latex_envs": {
   "LaTeX_envs_menu_present": true,
   "autoclose": false,
   "autocomplete": true,
   "bibliofile": "biblio.bib",
   "cite_by": "apalike",
   "current_citInitial": 1,
   "eqLabelWithNumbers": true,
   "eqNumInitial": 1,
   "hotkeys": {
    "equation": "Ctrl-E",
    "itemize": "Ctrl-I"
   },
   "labels_anchors": false,
   "latex_user_defs": false,
   "report_style_numbering": false,
   "user_envs_cfg": false
  },
  "vscode": {
   "interpreter": {
    "hash": "aee8b7b246df8f9039afb4144a1f6fd8d2ca17a180786b69acc140d282b71a49"
   }
  }
 },
 "nbformat": 4,
 "nbformat_minor": 5
}
